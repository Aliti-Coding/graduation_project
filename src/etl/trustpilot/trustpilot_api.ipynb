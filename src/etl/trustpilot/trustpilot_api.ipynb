{
 "cells": [
  {
   "cell_type": "code",
   "execution_count": null,
   "metadata": {},
   "outputs": [],
   "source": [
    "import requests\n",
    "import json\n",
    "import pandas as pd\n",
    "from connect_db import connect_to_grad_db"
   ]
  },
  {
   "cell_type": "code",
   "execution_count": null,
   "metadata": {},
   "outputs": [],
   "source": [
    "resp = requests.get(\n",
    "    \"https://www.trustpilot.com/_next/data/businessunitprofile-consumersite-7193/review/www.teslamotors.com.json\",\n",
    "    )"
   ]
  },
  {
   "cell_type": "code",
   "execution_count": null,
   "metadata": {},
   "outputs": [],
   "source": [
    "with open(\"tp.json\", \"w\") as file:\n",
    "    json.dump(resp.json(), file)"
   ]
  },
  {
   "cell_type": "code",
   "execution_count": null,
   "metadata": {},
   "outputs": [],
   "source": [
    "def get_review_data(\n",
    "    company_website:str, \n",
    "    page:int=1,\n",
    "    sort:str=\"recency\",\n",
    "    date=\"\",\n",
    "    stars=\"\",\n",
    "):\n",
    "    BASE_URL = \"https://www.trustpilot.com/_next/data/businessunitprofile-consumersite-7193/review/\"\n",
    "\n",
    "    target_url = BASE_URL + company_website + \".json?\"\n",
    "\n",
    "    target_url = f\"{target_url}sort={sort}\"\n",
    "    \n",
    "    if page > 1:\n",
    "        target_url+=f\"&page={page}\"\n",
    "        \n",
    "    if date:\n",
    "        target_url+=f\"&date={date}\"\n",
    "    \n",
    "    if stars:\n",
    "        target_url+=f\"&stars={stars}\"\n",
    "\n",
    "    print(target_url)\n",
    "    resp = requests.get(target_url)\n",
    "\n",
    "    if not resp.ok:\n",
    "        print(f\"WARNING: something went wrong making requests, status code: {resp.status_code}\")\n",
    "    else:\n",
    "        return resp.json()\n",
    "\n",
    "def extract_reviews(raw_reviews):\n",
    "    extracted = []\n",
    "    try:\n",
    "        reviews=raw_reviews[\"pageProps\"][\"reviews\"]\n",
    "    \n",
    "    \n",
    "        for review in reviews:\n",
    "            text = review[\"text\"] if review[\"text\"] else \"\"\n",
    "            rating = review[\"rating\"] if review[\"rating\"] else None\n",
    "            title = review[\"title\"] if review[\"title\"] else \"\"\n",
    "            rating = review[\"rating\"] if review[\"rating\"] else None\n",
    "            creation_date = review[\"dates\"][\"publishedDate\"] if review[\"dates\"][\"publishedDate\"] else None\n",
    "\n",
    "            clean_review = {\n",
    "                \"text\":text,\n",
    "                \"rating\":rating,\n",
    "                \"title\":title,\n",
    "                \"creation_date\":creation_date\n",
    "            }\n",
    "\n",
    "            extracted.append(clean_review)\n",
    "    except Exception as e:\n",
    "        print(e)\n",
    "    \n",
    "    return extracted\n",
    "        \n",
    "def get_reviews(company_website, num_pages=1, start_page=1):\n",
    "    reviews = []\n",
    "    for page in range(start_page, start_page+num_pages):\n",
    "        raw_review = get_review_data(company_website, page=page)\n",
    "        clean_reviews = extract_reviews(raw_review)\n",
    "        reviews += clean_reviews\n",
    "    \n",
    "    return reviews\n",
    "\n"
   ]
  },
  {
   "cell_type": "code",
   "execution_count": null,
   "metadata": {},
   "outputs": [],
   "source": [
    "extract_reviews(get_review_data(\"www.norwegian.com\", page=3))"
   ]
  },
  {
   "cell_type": "code",
   "execution_count": null,
   "metadata": {},
   "outputs": [],
   "source": [
    "reviews = get_reviews(\"www.norwegian.com\", 43)"
   ]
  },
  {
   "cell_type": "code",
   "execution_count": null,
   "metadata": {},
   "outputs": [],
   "source": [
    "df = pd.DataFrame(reviews)"
   ]
  },
  {
   "cell_type": "code",
   "execution_count": null,
   "metadata": {},
   "outputs": [],
   "source": [
    "df[\"creation_date\"] = pd.to_datetime(df[\"creation_date\"])"
   ]
  },
  {
   "cell_type": "code",
   "execution_count": null,
   "metadata": {},
   "outputs": [],
   "source": [
    "df[\"reviews_for_site\"] = \"www.norwegian.com\""
   ]
  },
  {
   "cell_type": "code",
   "execution_count": null,
   "metadata": {},
   "outputs": [],
   "source": [
    "engine = connect_to_grad_db()\n",
    "df.to_sql(\n",
    "    \"trustpilot_api\",\n",
    "    engine,\n",
    "    if_exists=\"append\",\n",
    "    index=False\n",
    ")"
   ]
  },
  {
   "cell_type": "code",
   "execution_count": null,
   "metadata": {},
   "outputs": [],
   "source": []
  }
 ],
 "metadata": {
  "kernelspec": {
   "display_name": "Python 3",
   "language": "python",
   "name": "python3"
  },
  "language_info": {
   "codemirror_mode": {
    "name": "ipython",
    "version": 3
   },
   "file_extension": ".py",
   "mimetype": "text/x-python",
   "name": "python",
   "nbconvert_exporter": "python",
   "pygments_lexer": "ipython3",
   "version": "3.9.16"
  },
  "orig_nbformat": 4,
  "vscode": {
   "interpreter": {
    "hash": "949777d72b0d2535278d3dc13498b2535136f6dfe0678499012e853ee9abcab1"
   }
  }
 },
 "nbformat": 4,
 "nbformat_minor": 2
}
