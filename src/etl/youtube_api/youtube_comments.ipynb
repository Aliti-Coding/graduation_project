{
 "cells": [
  {
   "cell_type": "code",
   "execution_count": null,
   "metadata": {},
   "outputs": [],
   "source": [
    "import googleapiclient.discovery\n",
    "import pandas as pd\n",
    "import os\n",
    "\n",
    "import requests_cache\n",
    "requests_cache.install_cache(\"yt_api\")"
   ]
  },
  {
   "cell_type": "code",
   "execution_count": null,
   "metadata": {},
   "outputs": [],
   "source": [
    "def connect_yt_data_api():\n",
    "    api_service_name = \"youtube\"\n",
    "    api_version = \"v3\"\n",
    "\n",
    "    with open(\"../../google_api_key.key\") as file:\n",
    "        DEVELOPER_KEY = file.read()\n",
    "\n",
    "    youtube = googleapiclient.discovery.build(\n",
    "        api_service_name, api_version, developerKey = DEVELOPER_KEY)\n",
    "    \n",
    "    return youtube\n",
    "\n",
    "def get_comments(videoId:str=None, allThreadsRelatedToChannelId:str=None, pageToken=None):\n",
    "    if not videoId and not allThreadsRelatedToChannelId:\n",
    "        raise Exception(\"no video id or channelId specified.\")\n",
    "\n",
    "    \n",
    "    youtube = connect_yt_data_api()\n",
    "\n",
    "    request = youtube.commentThreads().list(\n",
    "        part=\"snippet\",\n",
    "        allThreadsRelatedToChannelId=allThreadsRelatedToChannelId,\n",
    "        videoId=videoId,\n",
    "        maxResults=100,\n",
    "        pageToken=pageToken\n",
    "    )\n",
    "\n",
    "    response = request.execute()\n",
    "    return response\n"
   ]
  },
  {
   "cell_type": "code",
   "execution_count": null,
   "metadata": {},
   "outputs": [],
   "source": [
    "def get_channel_id(channelName):\n",
    "\n",
    "    youtube = connect_yt_data_api()\n",
    "    \n",
    "    request = youtube.channels().list(\n",
    "        part=\"statistics\",\n",
    "        forUsername=\"TeslaMotors\"\n",
    "    )\n",
    "    channels = request.execute()\n",
    "\n",
    "    return channels[\"items\"][0][\"id\"]"
   ]
  },
  {
   "cell_type": "code",
   "execution_count": null,
   "metadata": {},
   "outputs": [],
   "source": [
    "get_channel_id(\"TeslaMotors\")"
   ]
  },
  {
   "cell_type": "code",
   "execution_count": null,
   "metadata": {},
   "outputs": [],
   "source": [
    "def extract_comments(videoId, pages=1):\n",
    "    parsed_comments = []\n",
    "    \n",
    "    pageToken=None\n",
    "    \n",
    "    for _ in range(pages):\n",
    "        comments = get_comments(videoId=videoId, pageToken=pageToken)\n",
    "        pageToken = comments[\"nextPageToken\"]\n",
    "        \n",
    "        for comment in comments[\"items\"]:\n",
    "            tplc = comment[\"snippet\"][\"topLevelComment\"][\"snippet\"]\n",
    "\n",
    "            parsed_comment = {\n",
    "                \"textOriginal\":tplc[\"textOriginal\"],\n",
    "                \"authorDisplayName\":tplc[\"authorDisplayName\"],\n",
    "                \"publishedAt\":tplc[\"publishedAt\"],\n",
    "                \"likeCount\":tplc[\"likeCount\"]\n",
    "            }\n",
    "            \n",
    "            parsed_comments.append(parsed_comment)\n",
    "\n",
    "        \n",
    "    return parsed_comments"
   ]
  },
  {
   "cell_type": "code",
   "execution_count": null,
   "metadata": {},
   "outputs": [],
   "source": [
    "cs = extract_comments(\"eelCWETObJ8\", pages=2)"
   ]
  },
  {
   "cell_type": "code",
   "execution_count": null,
   "metadata": {},
   "outputs": [],
   "source": [
    "cs"
   ]
  },
  {
   "cell_type": "code",
   "execution_count": null,
   "metadata": {},
   "outputs": [],
   "source": []
  }
 ],
 "metadata": {
  "kernelspec": {
   "display_name": "Python 3",
   "language": "python",
   "name": "python3"
  },
  "language_info": {
   "codemirror_mode": {
    "name": "ipython",
    "version": 3
   },
   "file_extension": ".py",
   "mimetype": "text/x-python",
   "name": "python",
   "nbconvert_exporter": "python",
   "pygments_lexer": "ipython3",
   "version": "3.9.16"
  },
  "orig_nbformat": 4,
  "vscode": {
   "interpreter": {
    "hash": "949777d72b0d2535278d3dc13498b2535136f6dfe0678499012e853ee9abcab1"
   }
  }
 },
 "nbformat": 4,
 "nbformat_minor": 2
}
