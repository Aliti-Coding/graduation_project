{
 "cells": [
  {
   "cell_type": "code",
   "execution_count": null,
   "metadata": {},
   "outputs": [],
   "source": [
    "# Notebook currently does the following:\n",
    "# 1. Loads data from a json-file\n",
    "# 2. Balances counts of negative and positive reviews, then saves the data to csv as partitions\n",
    "\n",
    "# To implement in transformation:\n",
    "# 1. TF-IDF of text\n",
    "# 2. Further cleaning: removing unwanted characters and symbols\n",
    "# 3. Feature engineering: \n",
    "#    - length of text\n",
    "# 4. Transform \"unixReviewTime\" to datetime format\n",
    "# 5. Remove punctuation from text features"
   ]
  },
  {
   "cell_type": "code",
   "execution_count": null,
   "metadata": {},
   "outputs": [],
   "source": [
    "import pandas as pd\n",
    "import numpy as np\n",
    "import pathlib\n",
    "import re\n",
    "\n",
    "np.random.seed(0)"
   ]
  },
  {
   "cell_type": "code",
   "execution_count": null,
   "metadata": {},
   "outputs": [],
   "source": [
    "CHUNKS_TO_LOAD = 1 \n",
    "CHUNKSIZE = 10000 # Number of rows to load per chunk, total rows = CHUNKS_TO_LOAD * CHUNKSIZE\n",
    "DATA_PATH = \"\" # Absolute path to data"
   ]
  },
  {
   "cell_type": "code",
   "execution_count": null,
   "metadata": {},
   "outputs": [],
   "source": [
    "# Load amazon fashion reviews dataset\n",
    "reader = pd.read_json(\n",
    "    DATA_PATH,\n",
    "    lines=True, \n",
    "    compression=\"gzip\",\n",
    "    chunksize=CHUNKSIZE,\n",
    ")\n",
    "\n",
    "features = [\"overall\", \"reviewText\", \"summary\", \"unixReviewTime\", \"reviewerID\", \"reviewerName\"]"
   ]
  },
  {
   "cell_type": "code",
   "execution_count": null,
   "metadata": {},
   "outputs": [],
   "source": [
    "def remove_punctuation_lowercase(text):\n",
    "    return (re.sub(r\"[^a-zA-Z]\", \" \", text)).lower()"
   ]
  },
  {
   "cell_type": "code",
   "execution_count": null,
   "metadata": {},
   "outputs": [],
   "source": [
    "for chunk_n in range(1, CHUNKS_TO_LOAD+1):\n",
    "    # Remove redundant columns\n",
    "    df = reader.__next__().loc[:, features]\n",
    "\n",
    "    # Fix imbalance between scores of 4, 5 and 2, 1.\n",
    "    value_counts = df[\"overall\"].value_counts()\n",
    "    count_positive = value_counts[5] + value_counts[4]\n",
    "    count_neg = value_counts[2] + value_counts[1] \n",
    "    rows_to_drop = count_positive - count_neg\n",
    "\n",
    "    # Equally many negative as positive samples\n",
    "    df_balanced = df.drop(\n",
    "        axis=1, \n",
    "        index=np.random.choice(\n",
    "            df.query(\"overall == 4 or overall == 5\").index, \n",
    "            rows_to_drop, \n",
    "            replace=False\n",
    "        )\n",
    "    )   \n",
    "\n",
    "    # Remove punctuation and convert text to lowercase\n",
    "    text_features = [\"reviewText\", \"summary\"]\n",
    "    \n",
    "    for feature in text_features:\n",
    "        df_balanced[feature] = df_balanced[feature].convert_dtypes(\n",
    "            convert_string=True).fillna(\"\").apply(remove_punctuation_lowercase)\n",
    "\n",
    "    # Add column that is parsed date of unixReviewTime column\n",
    "    df[\"reviewDate\"] = pd.to_datetime(df[\"unixReviewTime\"], unit=\"s\")\n",
    "\n",
    "    # Extract old filename to construct new name\n",
    "    path = pathlib.Path(DATA_PATH)\n",
    "\n",
    "    file_name = path.parts[-1].split(\".\")[0] + f\"_partition_{chunk_n}\"\n",
    "    \n",
    "    df_balanced.to_csv(f\"../../data/transformed/{file_name}.csv\")\n"
   ]
  },
  {
   "cell_type": "code",
   "execution_count": null,
   "metadata": {},
   "outputs": [],
   "source": []
  }
 ],
 "metadata": {
  "kernelspec": {
   "display_name": "Python 3",
   "language": "python",
   "name": "python3"
  },
  "language_info": {
   "codemirror_mode": {
    "name": "ipython",
    "version": 3
   },
   "file_extension": ".py",
   "mimetype": "text/x-python",
   "name": "python",
   "nbconvert_exporter": "python",
   "pygments_lexer": "ipython3",
   "version": "3.11.1"
  },
  "orig_nbformat": 4,
  "vscode": {
   "interpreter": {
    "hash": "9059e1263a5bb25f1a8c978ada0d0c200291fdc9280ad865fd61d16b579e2467"
   }
  }
 },
 "nbformat": 4,
 "nbformat_minor": 2
}
