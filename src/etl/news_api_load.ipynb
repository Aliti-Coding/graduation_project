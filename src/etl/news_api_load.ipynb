{
 "cells": [
  {
   "cell_type": "code",
   "execution_count": 1,
   "metadata": {},
   "outputs": [
    {
     "name": "stdout",
     "output_type": "stream",
     "text": [
      "hello\n"
     ]
    }
   ],
   "source": [
    "from news_api_load import *\n",
    "import pandas as pd\n",
    "from connect_db import connect_to_grad_db"
   ]
  },
  {
   "cell_type": "code",
   "execution_count": 2,
   "metadata": {},
   "outputs": [],
   "source": [
    "all_news = get_all_news()"
   ]
  },
  {
   "cell_type": "code",
   "execution_count": 3,
   "metadata": {},
   "outputs": [],
   "source": [
    "fill_article_contents(all_news)"
   ]
  },
  {
   "cell_type": "code",
   "execution_count": 6,
   "metadata": {},
   "outputs": [
    {
     "ename": "KeyError",
     "evalue": "'content'",
     "output_type": "error",
     "traceback": [
      "\u001b[1;31m---------------------------------------------------------------------------\u001b[0m",
      "\u001b[1;31mKeyError\u001b[0m                                  Traceback (most recent call last)",
      "Cell \u001b[1;32mIn[6], line 1\u001b[0m\n\u001b[1;32m----> 1\u001b[0m all_news[\u001b[39m\"\u001b[39;49m\u001b[39mcontent\u001b[39;49m\u001b[39m\"\u001b[39;49m]\u001b[39m.\u001b[39mloc[\u001b[39m0\u001b[39m]\n",
      "\u001b[1;31mKeyError\u001b[0m: 'content'"
     ]
    }
   ],
   "source": [
    "all_news[\"content\"].loc[0]"
   ]
  },
  {
   "cell_type": "code",
   "execution_count": 4,
   "metadata": {},
   "outputs": [],
   "source": [
    "df = articles_to_df(all_news)"
   ]
  },
  {
   "cell_type": "code",
   "execution_count": 4,
   "metadata": {},
   "outputs": [
    {
     "data": {
      "text/html": [
       "<div>\n",
       "<style scoped>\n",
       "    .dataframe tbody tr th:only-of-type {\n",
       "        vertical-align: middle;\n",
       "    }\n",
       "\n",
       "    .dataframe tbody tr th {\n",
       "        vertical-align: top;\n",
       "    }\n",
       "\n",
       "    .dataframe thead th {\n",
       "        text-align: right;\n",
       "    }\n",
       "</style>\n",
       "<table border=\"1\" class=\"dataframe\">\n",
       "  <thead>\n",
       "    <tr style=\"text-align: right;\">\n",
       "      <th></th>\n",
       "      <th>source</th>\n",
       "      <th>author</th>\n",
       "      <th>title</th>\n",
       "      <th>description</th>\n",
       "      <th>url</th>\n",
       "      <th>publishedAt</th>\n",
       "      <th>content</th>\n",
       "    </tr>\n",
       "  </thead>\n",
       "  <tbody>\n",
       "    <tr>\n",
       "      <th>33</th>\n",
       "      <td>fox-news</td>\n",
       "      <td>Sally Persons, Mike Emanuel</td>\n",
       "      <td>Youth opioid overdoses on the rise as schools ...</td>\n",
       "      <td>Landen Hausman of Maryland, at age 16, was sma...</td>\n",
       "      <td>https://www.foxnews.com/lifestyle/youth-opioid...</td>\n",
       "      <td>2023-02-15 11:41:24+00:00</td>\n",
       "      <td>Landen Hausman was a smart, athletic 16-year-o...</td>\n",
       "    </tr>\n",
       "    <tr>\n",
       "      <th>68</th>\n",
       "      <td>abc-news</td>\n",
       "      <td>DAVID BAUDER AP Media Writer</td>\n",
       "      <td>Study shows 'striking' number who believe news...</td>\n",
       "      <td>A new survey shows fully half of Americans ind...</td>\n",
       "      <td>https://abcnews.go.com/Entertainment/wireStory...</td>\n",
       "      <td>2023-02-15 10:36:07+00:00</td>\n",
       "      <td>NEW YORK -- Half of Americans in a recent surv...</td>\n",
       "    </tr>\n",
       "    <tr>\n",
       "      <th>17</th>\n",
       "      <td>abc-news</td>\n",
       "      <td>The Associated Press</td>\n",
       "      <td>UN says 73 migrants presumed dead in shipwreck...</td>\n",
       "      <td>The United Nations migration agency says at le...</td>\n",
       "      <td>https://abcnews.go.com/International/wireStory...</td>\n",
       "      <td>2023-02-15 12:04:56+00:00</td>\n",
       "      <td>GENEVA -- At least 73 Europe-bound migrants ar...</td>\n",
       "    </tr>\n",
       "  </tbody>\n",
       "</table>\n",
       "</div>"
      ],
      "text/plain": [
       "      source                        author  \\\n",
       "33  fox-news   Sally Persons, Mike Emanuel   \n",
       "68  abc-news  DAVID BAUDER AP Media Writer   \n",
       "17  abc-news          The Associated Press   \n",
       "\n",
       "                                                title  \\\n",
       "33  Youth opioid overdoses on the rise as schools ...   \n",
       "68  Study shows 'striking' number who believe news...   \n",
       "17  UN says 73 migrants presumed dead in shipwreck...   \n",
       "\n",
       "                                          description  \\\n",
       "33  Landen Hausman of Maryland, at age 16, was sma...   \n",
       "68  A new survey shows fully half of Americans ind...   \n",
       "17  The United Nations migration agency says at le...   \n",
       "\n",
       "                                                  url  \\\n",
       "33  https://www.foxnews.com/lifestyle/youth-opioid...   \n",
       "68  https://abcnews.go.com/Entertainment/wireStory...   \n",
       "17  https://abcnews.go.com/International/wireStory...   \n",
       "\n",
       "                 publishedAt  \\\n",
       "33 2023-02-15 11:41:24+00:00   \n",
       "68 2023-02-15 10:36:07+00:00   \n",
       "17 2023-02-15 12:04:56+00:00   \n",
       "\n",
       "                                              content  \n",
       "33  Landen Hausman was a smart, athletic 16-year-o...  \n",
       "68  NEW YORK -- Half of Americans in a recent surv...  \n",
       "17  GENEVA -- At least 73 Europe-bound migrants ar...  "
      ]
     },
     "execution_count": 4,
     "metadata": {},
     "output_type": "execute_result"
    }
   ],
   "source": [
    "df.sample(3)"
   ]
  },
  {
   "cell_type": "code",
   "execution_count": 5,
   "metadata": {},
   "outputs": [],
   "source": [
    "\n",
    "engine = connect_to_grad_db()\n",
    "df_to_sql(df, engine)"
   ]
  },
  {
   "cell_type": "code",
   "execution_count": 7,
   "metadata": {},
   "outputs": [
    {
     "data": {
      "text/plain": [
       "Index(['source', 'author', 'title', 'description', 'url', 'publishedAt',\n",
       "       'content'],\n",
       "      dtype='object')"
      ]
     },
     "execution_count": 7,
     "metadata": {},
     "output_type": "execute_result"
    }
   ],
   "source": [
    "df.columns"
   ]
  }
 ],
 "metadata": {
  "kernelspec": {
   "display_name": ".venv",
   "language": "python",
   "name": "python3"
  },
  "language_info": {
   "codemirror_mode": {
    "name": "ipython",
    "version": 3
   },
   "file_extension": ".py",
   "mimetype": "text/x-python",
   "name": "python",
   "nbconvert_exporter": "python",
   "pygments_lexer": "ipython3",
   "version": "3.10.10"
  },
  "orig_nbformat": 4,
  "vscode": {
   "interpreter": {
    "hash": "d8996c41306a955084732ca4b0ba338895ff13d1921cf86d4d193db4a88f75fa"
   }
  }
 },
 "nbformat": 4,
 "nbformat_minor": 2
}
