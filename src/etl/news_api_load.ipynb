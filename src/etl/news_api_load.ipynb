{
 "cells": [
  {
   "cell_type": "code",
   "execution_count": 1,
   "metadata": {},
   "outputs": [
    {
     "name": "stdout",
     "output_type": "stream",
     "text": [
      "hello\n"
     ]
    }
   ],
   "source": [
    "from news_api_load import *\n",
    "import pandas as pd\n",
    "from connect_db import connect_to_grad_db\n",
    "PAGES = 10"
   ]
  },
  {
   "cell_type": "code",
   "execution_count": 2,
   "metadata": {},
   "outputs": [
    {
     "ename": "NewsAPIException",
     "evalue": "{'status': 'error', 'code': 'maximumResultsReached', 'message': 'You have requested too many results. Developer accounts are limited to a max of 100 results. You are trying to request results 100 to 120. Please upgrade to a paid plan if you need more results.'}",
     "output_type": "error",
     "traceback": [
      "\u001b[1;31m---------------------------------------------------------------------------\u001b[0m",
      "\u001b[1;31mNewsAPIException\u001b[0m                          Traceback (most recent call last)",
      "Cell \u001b[1;32mIn[2], line 2\u001b[0m\n\u001b[0;32m      1\u001b[0m \u001b[39mfor\u001b[39;00m page \u001b[39min\u001b[39;00m \u001b[39mrange\u001b[39m(\u001b[39m3\u001b[39m, PAGES\u001b[39m+\u001b[39m\u001b[39m1\u001b[39m):\n\u001b[1;32m----> 2\u001b[0m     all_news \u001b[39m=\u001b[39m get_all_news(page\u001b[39m=\u001b[39;49mpage)\n\u001b[0;32m      3\u001b[0m     fill_article_contents(all_news)\n\u001b[0;32m      4\u001b[0m     df \u001b[39m=\u001b[39m articles_to_df(all_news)\n",
      "File \u001b[1;32mc:\\Users\\duggurd\\New Folder\\graduation_project\\src\\etl\\news_api_load.py:58\u001b[0m, in \u001b[0;36mget_all_news\u001b[1;34m(query, time_from, time_to, page)\u001b[0m\n\u001b[0;32m     55\u001b[0m client \u001b[39m=\u001b[39m create_news_api_client()\n\u001b[0;32m     57\u001b[0m \u001b[39m# Make request\u001b[39;00m\n\u001b[1;32m---> 58\u001b[0m news_articles \u001b[39m=\u001b[39m client\u001b[39m.\u001b[39;49mget_everything(\n\u001b[0;32m     59\u001b[0m     q\u001b[39m=\u001b[39;49mquery,\n\u001b[0;32m     60\u001b[0m     sources\u001b[39m=\u001b[39;49mNEWS_SOURCES,   \u001b[39m#force sources\u001b[39;49;00m\n\u001b[0;32m     61\u001b[0m     language\u001b[39m=\u001b[39;49m\u001b[39m\"\u001b[39;49m\u001b[39men\u001b[39;49m\u001b[39m\"\u001b[39;49m,          \u001b[39m# force language\u001b[39;49;00m\n\u001b[0;32m     62\u001b[0m     from_param\u001b[39m=\u001b[39;49mtime_from,\n\u001b[0;32m     63\u001b[0m     to\u001b[39m=\u001b[39;49mtime_to,\n\u001b[0;32m     64\u001b[0m     page\u001b[39m=\u001b[39;49mpage\n\u001b[0;32m     65\u001b[0m )\n\u001b[0;32m     67\u001b[0m \u001b[39mreturn\u001b[39;00m news_articles\n",
      "File \u001b[1;32mc:\\Users\\duggurd\\New Folder\\graduation_project\\.venv\\lib\\site-packages\\newsapi\\newsapi_client.py:326\u001b[0m, in \u001b[0;36mNewsApiClient.get_everything\u001b[1;34m(self, q, qintitle, sources, domains, exclude_domains, from_param, to, language, sort_by, page, page_size)\u001b[0m\n\u001b[0;32m    324\u001b[0m \u001b[39m# Check Status of Request\u001b[39;00m\n\u001b[0;32m    325\u001b[0m \u001b[39mif\u001b[39;00m r\u001b[39m.\u001b[39mstatus_code \u001b[39m!=\u001b[39m requests\u001b[39m.\u001b[39mcodes\u001b[39m.\u001b[39mok:\n\u001b[1;32m--> 326\u001b[0m     \u001b[39mraise\u001b[39;00m NewsAPIException(r\u001b[39m.\u001b[39mjson())\n\u001b[0;32m    328\u001b[0m \u001b[39mreturn\u001b[39;00m r\u001b[39m.\u001b[39mjson()\n",
      "\u001b[1;31mNewsAPIException\u001b[0m: {'status': 'error', 'code': 'maximumResultsReached', 'message': 'You have requested too many results. Developer accounts are limited to a max of 100 results. You are trying to request results 100 to 120. Please upgrade to a paid plan if you need more results.'}"
     ]
    }
   ],
   "source": [
    "for page in range(3, PAGES+1):\n",
    "    all_news = get_all_news(page=page)\n",
    "    fill_article_contents(all_news)\n",
    "    df = articles_to_df(all_news)\n",
    "    engine = connect_to_grad_db()\n",
    "    df_to_sql(df, engine)\n",
    "    print(page)"
   ]
  },
  {
   "cell_type": "code",
   "execution_count": null,
   "metadata": {},
   "outputs": [],
   "source": []
  }
 ],
 "metadata": {
  "kernelspec": {
   "display_name": ".venv",
   "language": "python",
   "name": "python3"
  },
  "language_info": {
   "codemirror_mode": {
    "name": "ipython",
    "version": 3
   },
   "file_extension": ".py",
   "mimetype": "text/x-python",
   "name": "python",
   "nbconvert_exporter": "python",
   "pygments_lexer": "ipython3",
   "version": "3.10.10"
  },
  "orig_nbformat": 4,
  "vscode": {
   "interpreter": {
    "hash": "d8996c41306a955084732ca4b0ba338895ff13d1921cf86d4d193db4a88f75fa"
   }
  }
 },
 "nbformat": 4,
 "nbformat_minor": 2
}
