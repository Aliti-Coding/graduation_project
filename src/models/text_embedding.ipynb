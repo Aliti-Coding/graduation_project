{
 "cells": [
  {
   "cell_type": "code",
   "execution_count": null,
   "metadata": {},
   "outputs": [],
   "source": [
    "# Vectorization of words guide https://www.tensorflow.org/text/guide/word_embeddings"
   ]
  },
  {
   "cell_type": "code",
   "execution_count": null,
   "metadata": {},
   "outputs": [],
   "source": [
    "import tensorflow as tf\n",
    "from keras.layers import Embedding, TextVectorization\n",
    "from keras import Input, Model\n",
    "import numpy as np\n",
    "\n",
    "\n",
    "VOCAB_SIZE = 10000\n",
    "SEQUENCE_LENGTH = 100\n",
    "EMBEDDING_DIM = 2"
   ]
  },
  {
   "cell_type": "code",
   "execution_count": null,
   "metadata": {},
   "outputs": [],
   "source": [
    "vectorize_layer = TextVectorization(\n",
    "    VOCAB_SIZE,\n",
    "    \"strip_punctuation\",\n",
    "    output_mode=\"int\",\n",
    "    output_sequence_length=SEQUENCE_LENGTH\n",
    ")"
   ]
  },
  {
   "cell_type": "code",
   "execution_count": null,
   "metadata": {},
   "outputs": [],
   "source": [
    "# Fit the vectorization layer here to vocabulary\n",
    "vectorize_layer.adapt([\"hello\", \"bye\", \"hello bye man wow woof\"])"
   ]
  },
  {
   "cell_type": "code",
   "execution_count": null,
   "metadata": {},
   "outputs": [],
   "source": [
    "vectorize_layer.call([\"hhh hello bye hello\"])"
   ]
  },
  {
   "cell_type": "code",
   "execution_count": null,
   "metadata": {},
   "outputs": [],
   "source": [
    "# Defining the embedding model\n",
    "inputs = Input((1,), dtype=tf.string)\n",
    "vectorized = vectorize_layer(inputs)\n",
    "embeddings = Embedding(VOCAB_SIZE, EMBEDDING_DIM, name=\"embedding\")(vectorized)\n",
    "\n",
    "text_embedding_model = Model(inputs=inputs, outputs=embeddings)"
   ]
  },
  {
   "cell_type": "code",
   "execution_count": null,
   "metadata": {},
   "outputs": [],
   "source": [
    "text_embedding_model.compile(optimizer=\"adam\", loss=\"mean_squared_error\")"
   ]
  },
  {
   "cell_type": "code",
   "execution_count": null,
   "metadata": {},
   "outputs": [],
   "source": [
    "text_embedding_model.predict([\"h\"])"
   ]
  },
  {
   "cell_type": "code",
   "execution_count": null,
   "metadata": {},
   "outputs": [],
   "source": [
    "# Saving weights and vocabulary\n",
    "# Project weights and vocabulary: http://projector.tensorflow.org/\n",
    "# also possible in tensorboard directly\n",
    "embedding_weights = text_embedding_model.get_layer(\"embedding\").get_weights()[0]\n",
    "vocabulary = vectorize_layer.get_vocabulary()\n",
    "\n",
    "with open(\"embedding_weights.tsv\", \"w\") as out_w:\n",
    "  with open(\"vocabulary.tsv\", \"w\") as out_v:\n",
    "    for index, word in enumerate(vocabulary):\n",
    "      if index == 0:\n",
    "        continue  # skip 0, it's padding.\n",
    "      vec = embedding_weights[index]\n",
    "      out_w.write('\\t'.join([str(x) for x in vec]) + \"\\n\")\n",
    "      out_v.write(word + \"\\n\")  "
   ]
  }
 ],
 "metadata": {
  "kernelspec": {
   "display_name": "Python 3",
   "language": "python",
   "name": "python3"
  },
  "language_info": {
   "codemirror_mode": {
    "name": "ipython",
    "version": 3
   },
   "file_extension": ".py",
   "mimetype": "text/x-python",
   "name": "python",
   "nbconvert_exporter": "python",
   "pygments_lexer": "ipython3",
   "version": "3.10.10"
  },
  "orig_nbformat": 4,
  "vscode": {
   "interpreter": {
    "hash": "bebc719c1a5129d18b92cf73783d66f7154b28203397ec213f9ee16fb76f3f07"
   }
  }
 },
 "nbformat": 4,
 "nbformat_minor": 2
}
