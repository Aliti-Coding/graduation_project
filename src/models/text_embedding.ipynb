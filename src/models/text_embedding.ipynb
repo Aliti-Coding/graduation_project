{
 "cells": [
  {
   "cell_type": "code",
   "execution_count": 4,
   "metadata": {},
   "outputs": [],
   "source": [
    "# Vectorization of words guide https://www.tensorflow.org/text/guide/word_embeddings"
   ]
  },
  {
   "cell_type": "code",
   "execution_count": 96,
   "metadata": {},
   "outputs": [],
   "source": [
    "import tensorflow as tf\n",
    "from keras.layers import Embedding, TextVectorization\n",
    "from keras import Input, Model\n",
    "import numpy as np\n",
    "\n",
    "\n",
    "VOCAB_SIZE = 10000\n",
    "SEQUENCE_LENGTH = 100\n",
    "EMBEDDING_DIM = 2"
   ]
  },
  {
   "cell_type": "code",
   "execution_count": 106,
   "metadata": {},
   "outputs": [],
   "source": [
    "vectorize_layer = TextVectorization(\n",
    "    VOCAB_SIZE,\n",
    "    \"strip_punctuation\",\n",
    "    output_mode=\"int\",\n",
    "    output_sequence_length=SEQUENCE_LENGTH\n",
    ")"
   ]
  },
  {
   "cell_type": "code",
   "execution_count": 107,
   "metadata": {},
   "outputs": [
    {
     "name": "stdout",
     "output_type": "stream",
     "text": [
      "WARNING:tensorflow:5 out of the last 5 calls to <function PreprocessingLayer.make_adapt_function.<locals>.adapt_step at 0x000001F8A5997130> triggered tf.function retracing. Tracing is expensive and the excessive number of tracings could be due to (1) creating @tf.function repeatedly in a loop, (2) passing tensors with different shapes, (3) passing Python objects instead of tensors. For (1), please define your @tf.function outside of the loop. For (2), @tf.function has reduce_retracing=True option that can avoid unnecessary retracing. For (3), please refer to https://www.tensorflow.org/guide/function#controlling_retracing and https://www.tensorflow.org/api_docs/python/tf/function for  more details.\n"
     ]
    }
   ],
   "source": [
    "# Fit the vectorization layer here to vocabulary\n",
    "vectorize_layer.adapt([\"hello\", \"bye\", \"hello bye man wow woof\"])"
   ]
  },
  {
   "cell_type": "code",
   "execution_count": 115,
   "metadata": {},
   "outputs": [
    {
     "data": {
      "text/plain": [
       "<tf.Tensor: shape=(1, 100), dtype=int64, numpy=\n",
       "array([[1, 2, 3, 2, 0, 0, 0, 0, 0, 0, 0, 0, 0, 0, 0, 0, 0, 0, 0, 0, 0, 0,\n",
       "        0, 0, 0, 0, 0, 0, 0, 0, 0, 0, 0, 0, 0, 0, 0, 0, 0, 0, 0, 0, 0, 0,\n",
       "        0, 0, 0, 0, 0, 0, 0, 0, 0, 0, 0, 0, 0, 0, 0, 0, 0, 0, 0, 0, 0, 0,\n",
       "        0, 0, 0, 0, 0, 0, 0, 0, 0, 0, 0, 0, 0, 0, 0, 0, 0, 0, 0, 0, 0, 0,\n",
       "        0, 0, 0, 0, 0, 0, 0, 0, 0, 0, 0, 0]], dtype=int64)>"
      ]
     },
     "execution_count": 115,
     "metadata": {},
     "output_type": "execute_result"
    }
   ],
   "source": [
    "vectorize_layer.call([\"hhh hello bye hello\"])"
   ]
  },
  {
   "cell_type": "code",
   "execution_count": 99,
   "metadata": {},
   "outputs": [],
   "source": [
    "# Defining the embedding model\n",
    "inputs = Input((1,), dtype=tf.string)\n",
    "vectorized = vectorize_layer(inputs)\n",
    "embeddings = Embedding(VOCAB_SIZE, EMBEDDING_DIM, name=\"embedding\")(vectorized)\n",
    "\n",
    "text_embedding_model = Model(inputs=inputs, outputs=embeddings)"
   ]
  },
  {
   "cell_type": "code",
   "execution_count": 100,
   "metadata": {},
   "outputs": [],
   "source": [
    "text_embedding_model.compile(optimizer=\"adam\", loss=\"mean_squared_error\")"
   ]
  },
  {
   "cell_type": "code",
   "execution_count": 101,
   "metadata": {},
   "outputs": [
    {
     "name": "stdout",
     "output_type": "stream",
     "text": [
      "1/1 [==============================] - 0s 104ms/step\n"
     ]
    },
    {
     "data": {
      "text/plain": [
       "array([[[ 0.03912521, -0.04143658],\n",
       "        [ 0.01337456,  0.03891527],\n",
       "        [ 0.01337456,  0.03891527],\n",
       "        [ 0.01337456,  0.03891527],\n",
       "        [ 0.01337456,  0.03891527],\n",
       "        [ 0.01337456,  0.03891527],\n",
       "        [ 0.01337456,  0.03891527],\n",
       "        [ 0.01337456,  0.03891527],\n",
       "        [ 0.01337456,  0.03891527],\n",
       "        [ 0.01337456,  0.03891527],\n",
       "        [ 0.01337456,  0.03891527],\n",
       "        [ 0.01337456,  0.03891527],\n",
       "        [ 0.01337456,  0.03891527],\n",
       "        [ 0.01337456,  0.03891527],\n",
       "        [ 0.01337456,  0.03891527],\n",
       "        [ 0.01337456,  0.03891527],\n",
       "        [ 0.01337456,  0.03891527],\n",
       "        [ 0.01337456,  0.03891527],\n",
       "        [ 0.01337456,  0.03891527],\n",
       "        [ 0.01337456,  0.03891527],\n",
       "        [ 0.01337456,  0.03891527],\n",
       "        [ 0.01337456,  0.03891527],\n",
       "        [ 0.01337456,  0.03891527],\n",
       "        [ 0.01337456,  0.03891527],\n",
       "        [ 0.01337456,  0.03891527],\n",
       "        [ 0.01337456,  0.03891527],\n",
       "        [ 0.01337456,  0.03891527],\n",
       "        [ 0.01337456,  0.03891527],\n",
       "        [ 0.01337456,  0.03891527],\n",
       "        [ 0.01337456,  0.03891527],\n",
       "        [ 0.01337456,  0.03891527],\n",
       "        [ 0.01337456,  0.03891527],\n",
       "        [ 0.01337456,  0.03891527],\n",
       "        [ 0.01337456,  0.03891527],\n",
       "        [ 0.01337456,  0.03891527],\n",
       "        [ 0.01337456,  0.03891527],\n",
       "        [ 0.01337456,  0.03891527],\n",
       "        [ 0.01337456,  0.03891527],\n",
       "        [ 0.01337456,  0.03891527],\n",
       "        [ 0.01337456,  0.03891527],\n",
       "        [ 0.01337456,  0.03891527],\n",
       "        [ 0.01337456,  0.03891527],\n",
       "        [ 0.01337456,  0.03891527],\n",
       "        [ 0.01337456,  0.03891527],\n",
       "        [ 0.01337456,  0.03891527],\n",
       "        [ 0.01337456,  0.03891527],\n",
       "        [ 0.01337456,  0.03891527],\n",
       "        [ 0.01337456,  0.03891527],\n",
       "        [ 0.01337456,  0.03891527],\n",
       "        [ 0.01337456,  0.03891527],\n",
       "        [ 0.01337456,  0.03891527],\n",
       "        [ 0.01337456,  0.03891527],\n",
       "        [ 0.01337456,  0.03891527],\n",
       "        [ 0.01337456,  0.03891527],\n",
       "        [ 0.01337456,  0.03891527],\n",
       "        [ 0.01337456,  0.03891527],\n",
       "        [ 0.01337456,  0.03891527],\n",
       "        [ 0.01337456,  0.03891527],\n",
       "        [ 0.01337456,  0.03891527],\n",
       "        [ 0.01337456,  0.03891527],\n",
       "        [ 0.01337456,  0.03891527],\n",
       "        [ 0.01337456,  0.03891527],\n",
       "        [ 0.01337456,  0.03891527],\n",
       "        [ 0.01337456,  0.03891527],\n",
       "        [ 0.01337456,  0.03891527],\n",
       "        [ 0.01337456,  0.03891527],\n",
       "        [ 0.01337456,  0.03891527],\n",
       "        [ 0.01337456,  0.03891527],\n",
       "        [ 0.01337456,  0.03891527],\n",
       "        [ 0.01337456,  0.03891527],\n",
       "        [ 0.01337456,  0.03891527],\n",
       "        [ 0.01337456,  0.03891527],\n",
       "        [ 0.01337456,  0.03891527],\n",
       "        [ 0.01337456,  0.03891527],\n",
       "        [ 0.01337456,  0.03891527],\n",
       "        [ 0.01337456,  0.03891527],\n",
       "        [ 0.01337456,  0.03891527],\n",
       "        [ 0.01337456,  0.03891527],\n",
       "        [ 0.01337456,  0.03891527],\n",
       "        [ 0.01337456,  0.03891527],\n",
       "        [ 0.01337456,  0.03891527],\n",
       "        [ 0.01337456,  0.03891527],\n",
       "        [ 0.01337456,  0.03891527],\n",
       "        [ 0.01337456,  0.03891527],\n",
       "        [ 0.01337456,  0.03891527],\n",
       "        [ 0.01337456,  0.03891527],\n",
       "        [ 0.01337456,  0.03891527],\n",
       "        [ 0.01337456,  0.03891527],\n",
       "        [ 0.01337456,  0.03891527],\n",
       "        [ 0.01337456,  0.03891527],\n",
       "        [ 0.01337456,  0.03891527],\n",
       "        [ 0.01337456,  0.03891527],\n",
       "        [ 0.01337456,  0.03891527],\n",
       "        [ 0.01337456,  0.03891527],\n",
       "        [ 0.01337456,  0.03891527],\n",
       "        [ 0.01337456,  0.03891527],\n",
       "        [ 0.01337456,  0.03891527],\n",
       "        [ 0.01337456,  0.03891527],\n",
       "        [ 0.01337456,  0.03891527],\n",
       "        [ 0.01337456,  0.03891527]]], dtype=float32)"
      ]
     },
     "execution_count": 101,
     "metadata": {},
     "output_type": "execute_result"
    }
   ],
   "source": [
    "text_embedding_model.predict([\"h\"])"
   ]
  },
  {
   "cell_type": "code",
   "execution_count": 105,
   "metadata": {},
   "outputs": [],
   "source": [
    "# Saving weights and vocabulary\n",
    "embedding_weights = text_embedding_model.get_layer(\"embedding\").get_weights()[0]\n",
    "vocabulary = vectorize_layer.get_vocabulary()\n",
    "\n",
    "with open(\"embedding_weights.tsv\", \"w\") as out_w:\n",
    "  with open(\"vocabulary.tsv\", \"w\") as out_v:\n",
    "    for index, word in enumerate(vocabulary):\n",
    "      if index == 0:\n",
    "        continue  # skip 0, it's padding.\n",
    "      vec = embedding_weights[index]\n",
    "      out_w.write('\\t'.join([str(x) for x in vec]) + \"\\n\")\n",
    "      out_v.write(word + \"\\n\")  "
   ]
  },
  {
   "cell_type": "code",
   "execution_count": null,
   "metadata": {},
   "outputs": [],
   "source": []
  }
 ],
 "metadata": {
  "kernelspec": {
   "display_name": ".venv",
   "language": "python",
   "name": "python3"
  },
  "language_info": {
   "codemirror_mode": {
    "name": "ipython",
    "version": 3
   },
   "file_extension": ".py",
   "mimetype": "text/x-python",
   "name": "python",
   "nbconvert_exporter": "python",
   "pygments_lexer": "ipython3",
   "version": "3.10.10"
  },
  "orig_nbformat": 4,
  "vscode": {
   "interpreter": {
    "hash": "51f2b1682ca36553f721d8db9dc6b2ff150907ccde074e93189f5b97b202baef"
   }
  }
 },
 "nbformat": 4,
 "nbformat_minor": 2
}
