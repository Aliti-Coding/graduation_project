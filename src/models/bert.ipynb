{
 "cells": [
  {
   "cell_type": "code",
   "execution_count": 24,
   "metadata": {},
   "outputs": [],
   "source": [
    "import transformers\n",
    "from transformers import BertForSequenceClassification, BertTokenizer, TFBertForSequenceClassification\n",
    "import numpy as np\n",
    "from tensorflow import Tensor\n",
    "import pandas as pd\n",
    "import tensorflow as tf\n",
    "\n",
    "from sklearn.model_selection import train_test_split\n",
    "from sklearn.metrics import mean_squared_error, mean_absolute_error, roc_auc_score, accuracy_score\n",
    "\n",
    "VOCAB_SIZE = 15000\n",
    "SEQUENCE_LENGTH = 100\n",
    "EMBED_DIM = 8\n",
    "SEED = 0\n",
    "\n",
    "DATA_PATH=r\"../../data/transformed/amazon_reviews_5_partition_1.csv\"\n",
    "\n",
    "BERT_MODEL = \"bert-base-uncased\""
   ]
  },
  {
   "cell_type": "code",
   "execution_count": 2,
   "metadata": {},
   "outputs": [
    {
     "name": "stderr",
     "output_type": "stream",
     "text": [
      "Downloading (…)\"tf_model.h5\";: 100%|██████████| 536M/536M [00:18<00:00, 28.9MB/s] \n",
      "c:\\Users\\duggurd\\New Folder\\graduation_project\\.venv\\lib\\site-packages\\huggingface_hub\\file_download.py:129: UserWarning: `huggingface_hub` cache-system uses symlinks by default to efficiently store duplicated files but your machine does not support them in C:\\Users\\duggurd\\.cache\\huggingface\\hub. Caching files will still work but in a degraded version that might require more space on your disk. This warning can be disabled by setting the `HF_HUB_DISABLE_SYMLINKS_WARNING` environment variable. For more details, see https://huggingface.co/docs/huggingface_hub/how-to-cache#limitations.\n",
      "To support symlinks on Windows, you either need to activate Developer Mode or to run Python as an administrator. In order to see activate developer mode, see this article: https://docs.microsoft.com/en-us/windows/apps/get-started/enable-your-device-for-development\n",
      "  warnings.warn(message)\n",
      "All model checkpoint layers were used when initializing TFBertForSequenceClassification.\n",
      "\n",
      "Some layers of TFBertForSequenceClassification were not initialized from the model checkpoint at bert-base-uncased and are newly initialized: ['classifier']\n",
      "You should probably TRAIN this model on a down-stream task to be able to use it for predictions and inference.\n"
     ]
    }
   ],
   "source": [
    "model = TFBertForSequenceClassification.from_pretrained(\"bert-base-uncased\")\n",
    "tokenizer = BertTokenizer.from_pretrained(\"bert-base-uncased\")\n"
   ]
  },
  {
   "cell_type": "code",
   "execution_count": 31,
   "metadata": {},
   "outputs": [],
   "source": [
    "def tokenize(text):\n",
    "    return tokenizer(text, return_tensors=\"tf\", padding=True)\n",
    "\n",
    "def predict(text):\n",
    "    return model.predict(tokenize(text)[\"input_ids\"])"
   ]
  },
  {
   "cell_type": "code",
   "execution_count": 36,
   "metadata": {},
   "outputs": [],
   "source": [
    "df_reader = pd.read_csv(\n",
    "    DATA_PATH,\n",
    "    index_col=0,\n",
    "    chunksize=10000\n",
    ")\n",
    "df = df_reader.__next__()\n",
    "df = df.dropna()\n",
    "df[\"reviewText\"] = df[\"reviewText\"].convert_dtypes(convert_string=True)"
   ]
  },
  {
   "cell_type": "code",
   "execution_count": 62,
   "metadata": {},
   "outputs": [
    {
     "ename": "ValueError",
     "evalue": "setting an array element with a sequence. The requested array has an inhomogeneous shape after 2 dimensions. The detected shape was (9998, 1) + inhomogeneous part.",
     "output_type": "error",
     "traceback": [
      "\u001b[1;31m---------------------------------------------------------------------------\u001b[0m",
      "\u001b[1;31mValueError\u001b[0m                                Traceback (most recent call last)",
      "Cell \u001b[1;32mIn[62], line 2\u001b[0m\n\u001b[0;32m      1\u001b[0m x \u001b[39m=\u001b[39m df[\u001b[39m\"\u001b[39m\u001b[39mreviewText\u001b[39m\u001b[39m\"\u001b[39m]\n\u001b[1;32m----> 2\u001b[0m x \u001b[39m=\u001b[39m np\u001b[39m.\u001b[39;49marray([tokenize(e)[\u001b[39m\"\u001b[39;49m\u001b[39minput_ids\u001b[39;49m\u001b[39m\"\u001b[39;49m] \u001b[39mfor\u001b[39;49;00m e \u001b[39min\u001b[39;49;00m x])\n\u001b[0;32m      3\u001b[0m y \u001b[39m=\u001b[39m (df[\u001b[39m\"\u001b[39m\u001b[39moverall\u001b[39m\u001b[39m\"\u001b[39m] \u001b[39m>\u001b[39m \u001b[39m3\u001b[39m) \u001b[39m*\u001b[39m \u001b[39m1\u001b[39m\n",
      "\u001b[1;31mValueError\u001b[0m: setting an array element with a sequence. The requested array has an inhomogeneous shape after 2 dimensions. The detected shape was (9998, 1) + inhomogeneous part."
     ]
    }
   ],
   "source": [
    "x = df[\"reviewText\"]\n",
    "x = np.array([tokenize(e)[\"input_ids\"] for e in x])\n",
    "y = (df[\"overall\"] > 3) * 1"
   ]
  },
  {
   "cell_type": "code",
   "execution_count": 53,
   "metadata": {},
   "outputs": [],
   "source": [
    "x_train, x_test, y_train, y_test = train_test_split(\n",
    "    x, y.to_numpy(), test_size=0.2, random_state=0)"
   ]
  },
  {
   "cell_type": "code",
   "execution_count": 55,
   "metadata": {},
   "outputs": [],
   "source": [
    "model.compile(optimizer=\"adam\", loss=\"sparse_categorical_crossentropy\", metrics=[\"accuracy\"])"
   ]
  },
  {
   "cell_type": "code",
   "execution_count": 56,
   "metadata": {},
   "outputs": [
    {
     "ename": "TypeError",
     "evalue": "in user code:\n\n    File \"c:\\Users\\duggurd\\New Folder\\graduation_project\\.venv\\lib\\site-packages\\keras\\engine\\training.py\", line 1249, in train_function  *\n        return step_function(self, iterator)\n    File \"c:\\Users\\duggurd\\New Folder\\graduation_project\\.venv\\lib\\site-packages\\keras\\engine\\training.py\", line 1233, in step_function  **\n        outputs = model.distribute_strategy.run(run_step, args=(data,))\n    File \"c:\\Users\\duggurd\\New Folder\\graduation_project\\.venv\\lib\\site-packages\\keras\\engine\\training.py\", line 1222, in run_step  **\n        outputs = model.train_step(data)\n    File \"c:\\Users\\duggurd\\New Folder\\graduation_project\\.venv\\lib\\site-packages\\transformers\\modeling_tf_utils.py\", line 1535, in train_step\n        y_pred = self(x, training=True)\n    File \"c:\\Users\\duggurd\\New Folder\\graduation_project\\.venv\\lib\\site-packages\\keras\\utils\\traceback_utils.py\", line 70, in error_handler\n        raise e.with_traceback(filtered_tb) from None\n    File \"C:\\Users\\duggurd\\AppData\\Local\\Temp\\__autograph_generated_fileyveartyu.py\", line 36, in tf__run_call_with_unpacked_inputs\n        retval_ = ag__.converted_call(ag__.ld(func), (ag__.ld(self),), dict(**ag__.ld(unpacked_inputs)), fscope)\n    File \"C:\\Users\\duggurd\\AppData\\Local\\Temp\\__autograph_generated_file738nt95y.py\", line 16, in tf__call\n        outputs = ag__.converted_call(ag__.ld(self).bert, (), dict(input_ids=ag__.ld(input_ids), attention_mask=ag__.ld(attention_mask), token_type_ids=ag__.ld(token_type_ids), position_ids=ag__.ld(position_ids), head_mask=ag__.ld(head_mask), inputs_embeds=ag__.ld(inputs_embeds), output_attentions=ag__.ld(output_attentions), output_hidden_states=ag__.ld(output_hidden_states), return_dict=ag__.ld(return_dict), training=ag__.ld(training)), fscope)\n    File \"C:\\Users\\duggurd\\AppData\\Local\\Temp\\__autograph_generated_fileyveartyu.py\", line 36, in tf__run_call_with_unpacked_inputs\n        retval_ = ag__.converted_call(ag__.ld(func), (ag__.ld(self),), dict(**ag__.ld(unpacked_inputs)), fscope)\n    File \"C:\\Users\\duggurd\\AppData\\Local\\Temp\\__autograph_generated_fileqnnp6umo.py\", line 126, in tf__call\n        embedding_output = ag__.converted_call(ag__.ld(self).embeddings, (), dict(input_ids=ag__.ld(input_ids), position_ids=ag__.ld(position_ids), token_type_ids=ag__.ld(token_type_ids), inputs_embeds=ag__.ld(inputs_embeds), past_key_values_length=ag__.ld(past_key_values_length), training=ag__.ld(training)), fscope)\n    File \"C:\\Users\\duggurd\\AppData\\Local\\Temp\\__autograph_generated_file5ajvmeqk.py\", line 45, in tf__call\n        ag__.if_stmt(ag__.ld(input_ids) is not None, if_body_1, else_body_1, get_state_1, set_state_1, ('inputs_embeds',), 1)\n    File \"C:\\Users\\duggurd\\AppData\\Local\\Temp\\__autograph_generated_file5ajvmeqk.py\", line 39, in if_body_1\n        ag__.converted_call(ag__.ld(tf).debugging.assert_less, (ag__.ld(input_ids), ag__.converted_call(ag__.ld(tf).cast, (ag__.ld(self).config.vocab_size,), dict(dtype=ag__.ld(input_ids).dtype), fscope)), dict(message=f\"input_ids must be smaller than the embedding layer's input dimension (got {ag__.converted_call(ag__.ld(tf).math.reduce_max, (ag__.ld(input_ids),), None, fscope)} >= {ag__.ld(self).config.vocab_size})\"), fscope)\n\n    TypeError: Exception encountered when calling layer 'tf_bert_for_sequence_classification' (type TFBertForSequenceClassification).\n    \n    in user code:\n    \n        File \"c:\\Users\\duggurd\\New Folder\\graduation_project\\.venv\\lib\\site-packages\\transformers\\modeling_tf_utils.py\", line 1640, in run_call_with_unpacked_inputs  *\n            return func(self, **unpacked_inputs)\n        File \"c:\\Users\\duggurd\\New Folder\\graduation_project\\.venv\\lib\\site-packages\\transformers\\models\\bert\\modeling_tf_bert.py\", line 1652, in call  *\n            outputs = self.bert(\n        File \"c:\\Users\\duggurd\\New Folder\\graduation_project\\.venv\\lib\\site-packages\\keras\\utils\\traceback_utils.py\", line 70, in error_handler  **\n            raise e.with_traceback(filtered_tb) from None\n        File \"C:\\Users\\duggurd\\AppData\\Local\\Temp\\__autograph_generated_fileyveartyu.py\", line 36, in tf__run_call_with_unpacked_inputs\n            retval_ = ag__.converted_call(ag__.ld(func), (ag__.ld(self),), dict(**ag__.ld(unpacked_inputs)), fscope)\n        File \"C:\\Users\\duggurd\\AppData\\Local\\Temp\\__autograph_generated_fileqnnp6umo.py\", line 126, in tf__call\n            embedding_output = ag__.converted_call(ag__.ld(self).embeddings, (), dict(input_ids=ag__.ld(input_ids), position_ids=ag__.ld(position_ids), token_type_ids=ag__.ld(token_type_ids), inputs_embeds=ag__.ld(inputs_embeds), past_key_values_length=ag__.ld(past_key_values_length), training=ag__.ld(training)), fscope)\n        File \"C:\\Users\\duggurd\\AppData\\Local\\Temp\\__autograph_generated_file5ajvmeqk.py\", line 45, in tf__call\n            ag__.if_stmt(ag__.ld(input_ids) is not None, if_body_1, else_body_1, get_state_1, set_state_1, ('inputs_embeds',), 1)\n        File \"C:\\Users\\duggurd\\AppData\\Local\\Temp\\__autograph_generated_file5ajvmeqk.py\", line 39, in if_body_1\n            ag__.converted_call(ag__.ld(tf).debugging.assert_less, (ag__.ld(input_ids), ag__.converted_call(ag__.ld(tf).cast, (ag__.ld(self).config.vocab_size,), dict(dtype=ag__.ld(input_ids).dtype), fscope)), dict(message=f\"input_ids must be smaller than the embedding layer's input dimension (got {ag__.converted_call(ag__.ld(tf).math.reduce_max, (ag__.ld(input_ids),), None, fscope)} >= {ag__.ld(self).config.vocab_size})\"), fscope)\n    \n        TypeError: Exception encountered when calling layer 'bert' (type TFBertMainLayer).\n        \n        in user code:\n        \n            File \"c:\\Users\\duggurd\\New Folder\\graduation_project\\.venv\\lib\\site-packages\\transformers\\modeling_tf_utils.py\", line 1640, in run_call_with_unpacked_inputs  *\n                return func(self, **unpacked_inputs)\n            File \"c:\\Users\\duggurd\\New Folder\\graduation_project\\.venv\\lib\\site-packages\\transformers\\models\\bert\\modeling_tf_bert.py\", line 789, in call  *\n                embedding_output = self.embeddings(\n            File \"c:\\Users\\duggurd\\New Folder\\graduation_project\\.venv\\lib\\site-packages\\keras\\utils\\traceback_utils.py\", line 70, in error_handler  **\n                raise e.with_traceback(filtered_tb) from None\n            File \"C:\\Users\\duggurd\\AppData\\Local\\Temp\\__autograph_generated_file5ajvmeqk.py\", line 45, in tf__call\n                ag__.if_stmt(ag__.ld(input_ids) is not None, if_body_1, else_body_1, get_state_1, set_state_1, ('inputs_embeds',), 1)\n            File \"C:\\Users\\duggurd\\AppData\\Local\\Temp\\__autograph_generated_file5ajvmeqk.py\", line 39, in if_body_1\n                ag__.converted_call(ag__.ld(tf).debugging.assert_less, (ag__.ld(input_ids), ag__.converted_call(ag__.ld(tf).cast, (ag__.ld(self).config.vocab_size,), dict(dtype=ag__.ld(input_ids).dtype), fscope)), dict(message=f\"input_ids must be smaller than the embedding layer's input dimension (got {ag__.converted_call(ag__.ld(tf).math.reduce_max, (ag__.ld(input_ids),), None, fscope)} >= {ag__.ld(self).config.vocab_size})\"), fscope)\n        \n            TypeError: Exception encountered when calling layer 'embeddings' (type TFBertEmbeddings).\n            \n            in user code:\n            \n                File \"c:\\Users\\duggurd\\New Folder\\graduation_project\\.venv\\lib\\site-packages\\transformers\\models\\bert\\modeling_tf_bert.py\", line 203, in call  *\n                    tf.debugging.assert_less(\n            \n                TypeError: Value passed to parameter 'input' has DataType string not in list of allowed values: float32, float64, int32, uint8, int16, int8, int64, bfloat16, uint16, float16, uint32, uint64, qint8, quint8, qint32, qint16, quint16\n            \n            \n            Call arguments received by layer 'embeddings' (type TFBertEmbeddings):\n              • input_ids=tf.Tensor(shape=(None, 3), dtype=string)\n              • position_ids=None\n              • token_type_ids=tf.Tensor(shape=(None, 3), dtype=int32)\n              • inputs_embeds=None\n              • past_key_values_length=0\n              • training=True\n        \n        \n        Call arguments received by layer 'bert' (type TFBertMainLayer):\n          • self=tf.Tensor(shape=(None, 3), dtype=string)\n          • input_ids=None\n          • attention_mask=None\n          • token_type_ids=None\n          • position_ids=None\n          • head_mask=None\n          • inputs_embeds=None\n          • encoder_hidden_states=None\n          • encoder_attention_mask=None\n          • past_key_values=None\n          • use_cache=None\n          • output_attentions=False\n          • output_hidden_states=False\n          • return_dict=True\n          • training=True\n    \n    \n    Call arguments received by layer 'tf_bert_for_sequence_classification' (type TFBertForSequenceClassification):\n      • self=tf.Tensor(shape=(None, 3), dtype=string)\n      • input_ids=None\n      • attention_mask=None\n      • token_type_ids=None\n      • position_ids=None\n      • head_mask=None\n      • inputs_embeds=None\n      • output_attentions=None\n      • output_hidden_states=None\n      • return_dict=None\n      • labels=None\n      • training=True\n",
     "output_type": "error",
     "traceback": [
      "\u001b[1;31m---------------------------------------------------------------------------\u001b[0m",
      "\u001b[1;31mTypeError\u001b[0m                                 Traceback (most recent call last)",
      "Cell \u001b[1;32mIn[56], line 1\u001b[0m\n\u001b[1;32m----> 1\u001b[0m model\u001b[39m.\u001b[39;49mfit(x_train, y_train)\n",
      "File \u001b[1;32mc:\\Users\\duggurd\\New Folder\\graduation_project\\.venv\\lib\\site-packages\\keras\\utils\\traceback_utils.py:70\u001b[0m, in \u001b[0;36mfilter_traceback.<locals>.error_handler\u001b[1;34m(*args, **kwargs)\u001b[0m\n\u001b[0;32m     67\u001b[0m     filtered_tb \u001b[39m=\u001b[39m _process_traceback_frames(e\u001b[39m.\u001b[39m__traceback__)\n\u001b[0;32m     68\u001b[0m     \u001b[39m# To get the full stack trace, call:\u001b[39;00m\n\u001b[0;32m     69\u001b[0m     \u001b[39m# `tf.debugging.disable_traceback_filtering()`\u001b[39;00m\n\u001b[1;32m---> 70\u001b[0m     \u001b[39mraise\u001b[39;00m e\u001b[39m.\u001b[39mwith_traceback(filtered_tb) \u001b[39mfrom\u001b[39;00m \u001b[39mNone\u001b[39m\n\u001b[0;32m     71\u001b[0m \u001b[39mfinally\u001b[39;00m:\n\u001b[0;32m     72\u001b[0m     \u001b[39mdel\u001b[39;00m filtered_tb\n",
      "File \u001b[1;32m~\\AppData\\Local\\Temp\\__autograph_generated_file5tulbpf0.py:15\u001b[0m, in \u001b[0;36mouter_factory.<locals>.inner_factory.<locals>.tf__train_function\u001b[1;34m(iterator)\u001b[0m\n\u001b[0;32m     13\u001b[0m \u001b[39mtry\u001b[39;00m:\n\u001b[0;32m     14\u001b[0m     do_return \u001b[39m=\u001b[39m \u001b[39mTrue\u001b[39;00m\n\u001b[1;32m---> 15\u001b[0m     retval_ \u001b[39m=\u001b[39m ag__\u001b[39m.\u001b[39mconverted_call(ag__\u001b[39m.\u001b[39mld(step_function), (ag__\u001b[39m.\u001b[39mld(\u001b[39mself\u001b[39m), ag__\u001b[39m.\u001b[39mld(iterator)), \u001b[39mNone\u001b[39;00m, fscope)\n\u001b[0;32m     16\u001b[0m \u001b[39mexcept\u001b[39;00m:\n\u001b[0;32m     17\u001b[0m     do_return \u001b[39m=\u001b[39m \u001b[39mFalse\u001b[39;00m\n",
      "File \u001b[1;32mc:\\Users\\duggurd\\New Folder\\graduation_project\\.venv\\lib\\site-packages\\transformers\\modeling_tf_utils.py:1535\u001b[0m, in \u001b[0;36mTFPreTrainedModel.train_step\u001b[1;34m(self, data)\u001b[0m\n\u001b[0;32m   1533\u001b[0m     y_pred \u001b[39m=\u001b[39m \u001b[39mself\u001b[39m(x, training\u001b[39m=\u001b[39m\u001b[39mTrue\u001b[39;00m, return_loss\u001b[39m=\u001b[39m\u001b[39mTrue\u001b[39;00m)\n\u001b[0;32m   1534\u001b[0m \u001b[39melse\u001b[39;00m:\n\u001b[1;32m-> 1535\u001b[0m     y_pred \u001b[39m=\u001b[39m \u001b[39mself\u001b[39m(x, training\u001b[39m=\u001b[39m\u001b[39mTrue\u001b[39;00m)\n\u001b[0;32m   1536\u001b[0m \u001b[39mif\u001b[39;00m \u001b[39mself\u001b[39m\u001b[39m.\u001b[39m_using_dummy_loss:\n\u001b[0;32m   1537\u001b[0m     loss \u001b[39m=\u001b[39m \u001b[39mself\u001b[39m\u001b[39m.\u001b[39mcompiled_loss(y_pred\u001b[39m.\u001b[39mloss, y_pred\u001b[39m.\u001b[39mloss, sample_weight, regularization_losses\u001b[39m=\u001b[39m\u001b[39mself\u001b[39m\u001b[39m.\u001b[39mlosses)\n",
      "File \u001b[1;32m~\\AppData\\Local\\Temp\\__autograph_generated_fileyveartyu.py:36\u001b[0m, in \u001b[0;36mouter_factory.<locals>.inner_factory.<locals>.tf__run_call_with_unpacked_inputs\u001b[1;34m(self, *args, **kwargs)\u001b[0m\n\u001b[0;32m     34\u001b[0m \u001b[39mtry\u001b[39;00m:\n\u001b[0;32m     35\u001b[0m     do_return \u001b[39m=\u001b[39m \u001b[39mTrue\u001b[39;00m\n\u001b[1;32m---> 36\u001b[0m     retval_ \u001b[39m=\u001b[39m ag__\u001b[39m.\u001b[39mconverted_call(ag__\u001b[39m.\u001b[39mld(func), (ag__\u001b[39m.\u001b[39mld(\u001b[39mself\u001b[39m),), \u001b[39mdict\u001b[39m(\u001b[39m*\u001b[39m\u001b[39m*\u001b[39mag__\u001b[39m.\u001b[39mld(unpacked_inputs)), fscope)\n\u001b[0;32m     37\u001b[0m \u001b[39mexcept\u001b[39;00m:\n\u001b[0;32m     38\u001b[0m     do_return \u001b[39m=\u001b[39m \u001b[39mFalse\u001b[39;00m\n",
      "File \u001b[1;32m~\\AppData\\Local\\Temp\\__autograph_generated_file738nt95y.py:16\u001b[0m, in \u001b[0;36mouter_factory.<locals>.inner_factory.<locals>.tf__call\u001b[1;34m(self, input_ids, attention_mask, token_type_ids, position_ids, head_mask, inputs_embeds, output_attentions, output_hidden_states, return_dict, labels, training)\u001b[0m\n\u001b[0;32m     14\u001b[0m do_return \u001b[39m=\u001b[39m \u001b[39mFalse\u001b[39;00m\n\u001b[0;32m     15\u001b[0m retval_ \u001b[39m=\u001b[39m ag__\u001b[39m.\u001b[39mUndefinedReturnValue()\n\u001b[1;32m---> 16\u001b[0m outputs \u001b[39m=\u001b[39m ag__\u001b[39m.\u001b[39mconverted_call(ag__\u001b[39m.\u001b[39mld(\u001b[39mself\u001b[39m)\u001b[39m.\u001b[39mbert, (), \u001b[39mdict\u001b[39m(input_ids\u001b[39m=\u001b[39mag__\u001b[39m.\u001b[39mld(input_ids), attention_mask\u001b[39m=\u001b[39mag__\u001b[39m.\u001b[39mld(attention_mask), token_type_ids\u001b[39m=\u001b[39mag__\u001b[39m.\u001b[39mld(token_type_ids), position_ids\u001b[39m=\u001b[39mag__\u001b[39m.\u001b[39mld(position_ids), head_mask\u001b[39m=\u001b[39mag__\u001b[39m.\u001b[39mld(head_mask), inputs_embeds\u001b[39m=\u001b[39mag__\u001b[39m.\u001b[39mld(inputs_embeds), output_attentions\u001b[39m=\u001b[39mag__\u001b[39m.\u001b[39mld(output_attentions), output_hidden_states\u001b[39m=\u001b[39mag__\u001b[39m.\u001b[39mld(output_hidden_states), return_dict\u001b[39m=\u001b[39mag__\u001b[39m.\u001b[39mld(return_dict), training\u001b[39m=\u001b[39mag__\u001b[39m.\u001b[39mld(training)), fscope)\n\u001b[0;32m     17\u001b[0m pooled_output \u001b[39m=\u001b[39m ag__\u001b[39m.\u001b[39mld(outputs)[\u001b[39m1\u001b[39m]\n\u001b[0;32m     18\u001b[0m pooled_output \u001b[39m=\u001b[39m ag__\u001b[39m.\u001b[39mconverted_call(ag__\u001b[39m.\u001b[39mld(\u001b[39mself\u001b[39m)\u001b[39m.\u001b[39mdropout, (), \u001b[39mdict\u001b[39m(inputs\u001b[39m=\u001b[39mag__\u001b[39m.\u001b[39mld(pooled_output), training\u001b[39m=\u001b[39mag__\u001b[39m.\u001b[39mld(training)), fscope)\n",
      "File \u001b[1;32m~\\AppData\\Local\\Temp\\__autograph_generated_fileyveartyu.py:36\u001b[0m, in \u001b[0;36mouter_factory.<locals>.inner_factory.<locals>.tf__run_call_with_unpacked_inputs\u001b[1;34m(self, *args, **kwargs)\u001b[0m\n\u001b[0;32m     34\u001b[0m \u001b[39mtry\u001b[39;00m:\n\u001b[0;32m     35\u001b[0m     do_return \u001b[39m=\u001b[39m \u001b[39mTrue\u001b[39;00m\n\u001b[1;32m---> 36\u001b[0m     retval_ \u001b[39m=\u001b[39m ag__\u001b[39m.\u001b[39mconverted_call(ag__\u001b[39m.\u001b[39mld(func), (ag__\u001b[39m.\u001b[39mld(\u001b[39mself\u001b[39m),), \u001b[39mdict\u001b[39m(\u001b[39m*\u001b[39m\u001b[39m*\u001b[39mag__\u001b[39m.\u001b[39mld(unpacked_inputs)), fscope)\n\u001b[0;32m     37\u001b[0m \u001b[39mexcept\u001b[39;00m:\n\u001b[0;32m     38\u001b[0m     do_return \u001b[39m=\u001b[39m \u001b[39mFalse\u001b[39;00m\n",
      "File \u001b[1;32m~\\AppData\\Local\\Temp\\__autograph_generated_fileqnnp6umo.py:126\u001b[0m, in \u001b[0;36mouter_factory.<locals>.inner_factory.<locals>.tf__call\u001b[1;34m(self, input_ids, attention_mask, token_type_ids, position_ids, head_mask, inputs_embeds, encoder_hidden_states, encoder_attention_mask, past_key_values, use_cache, output_attentions, output_hidden_states, return_dict, training)\u001b[0m\n\u001b[0;32m    124\u001b[0m     \u001b[39mpass\u001b[39;00m\n\u001b[0;32m    125\u001b[0m ag__\u001b[39m.\u001b[39mif_stmt(ag__\u001b[39m.\u001b[39mld(token_type_ids) \u001b[39mis\u001b[39;00m \u001b[39mNone\u001b[39;00m, if_body_6, else_body_6, get_state_6, set_state_6, (\u001b[39m'\u001b[39m\u001b[39mtoken_type_ids\u001b[39m\u001b[39m'\u001b[39m,), \u001b[39m1\u001b[39m)\n\u001b[1;32m--> 126\u001b[0m embedding_output \u001b[39m=\u001b[39m ag__\u001b[39m.\u001b[39mconverted_call(ag__\u001b[39m.\u001b[39mld(\u001b[39mself\u001b[39m)\u001b[39m.\u001b[39membeddings, (), \u001b[39mdict\u001b[39m(input_ids\u001b[39m=\u001b[39mag__\u001b[39m.\u001b[39mld(input_ids), position_ids\u001b[39m=\u001b[39mag__\u001b[39m.\u001b[39mld(position_ids), token_type_ids\u001b[39m=\u001b[39mag__\u001b[39m.\u001b[39mld(token_type_ids), inputs_embeds\u001b[39m=\u001b[39mag__\u001b[39m.\u001b[39mld(inputs_embeds), past_key_values_length\u001b[39m=\u001b[39mag__\u001b[39m.\u001b[39mld(past_key_values_length), training\u001b[39m=\u001b[39mag__\u001b[39m.\u001b[39mld(training)), fscope)\n\u001b[0;32m    127\u001b[0m attention_mask_shape \u001b[39m=\u001b[39m ag__\u001b[39m.\u001b[39mconverted_call(ag__\u001b[39m.\u001b[39mld(shape_list), (ag__\u001b[39m.\u001b[39mld(attention_mask),), \u001b[39mNone\u001b[39;00m, fscope)\n\u001b[0;32m    128\u001b[0m mask_seq_length \u001b[39m=\u001b[39m ag__\u001b[39m.\u001b[39mld(seq_length) \u001b[39m+\u001b[39m ag__\u001b[39m.\u001b[39mld(past_key_values_length)\n",
      "File \u001b[1;32m~\\AppData\\Local\\Temp\\__autograph_generated_file5ajvmeqk.py:45\u001b[0m, in \u001b[0;36mouter_factory.<locals>.inner_factory.<locals>.tf__call\u001b[1;34m(self, input_ids, position_ids, token_type_ids, inputs_embeds, past_key_values_length, training)\u001b[0m\n\u001b[0;32m     43\u001b[0m     \u001b[39mnonlocal\u001b[39;00m inputs_embeds\n\u001b[0;32m     44\u001b[0m     \u001b[39mpass\u001b[39;00m\n\u001b[1;32m---> 45\u001b[0m ag__\u001b[39m.\u001b[39mif_stmt(ag__\u001b[39m.\u001b[39mld(input_ids) \u001b[39mis\u001b[39;00m \u001b[39mnot\u001b[39;00m \u001b[39mNone\u001b[39;00m, if_body_1, else_body_1, get_state_1, set_state_1, (\u001b[39m'\u001b[39m\u001b[39minputs_embeds\u001b[39m\u001b[39m'\u001b[39m,), \u001b[39m1\u001b[39m)\n\u001b[0;32m     46\u001b[0m input_shape \u001b[39m=\u001b[39m ag__\u001b[39m.\u001b[39mconverted_call(ag__\u001b[39m.\u001b[39mld(shape_list), (ag__\u001b[39m.\u001b[39mld(inputs_embeds),), \u001b[39mNone\u001b[39;00m, fscope)[:\u001b[39m-\u001b[39m\u001b[39m1\u001b[39m]\n\u001b[0;32m     48\u001b[0m \u001b[39mdef\u001b[39;00m \u001b[39mget_state_2\u001b[39m():\n",
      "File \u001b[1;32m~\\AppData\\Local\\Temp\\__autograph_generated_file5ajvmeqk.py:39\u001b[0m, in \u001b[0;36mouter_factory.<locals>.inner_factory.<locals>.tf__call.<locals>.if_body_1\u001b[1;34m()\u001b[0m\n\u001b[0;32m     37\u001b[0m \u001b[39mdef\u001b[39;00m \u001b[39mif_body_1\u001b[39m():\n\u001b[0;32m     38\u001b[0m     \u001b[39mnonlocal\u001b[39;00m inputs_embeds\n\u001b[1;32m---> 39\u001b[0m     ag__\u001b[39m.\u001b[39mconverted_call(ag__\u001b[39m.\u001b[39mld(tf)\u001b[39m.\u001b[39mdebugging\u001b[39m.\u001b[39massert_less, (ag__\u001b[39m.\u001b[39mld(input_ids), ag__\u001b[39m.\u001b[39mconverted_call(ag__\u001b[39m.\u001b[39mld(tf)\u001b[39m.\u001b[39mcast, (ag__\u001b[39m.\u001b[39mld(\u001b[39mself\u001b[39m)\u001b[39m.\u001b[39mconfig\u001b[39m.\u001b[39mvocab_size,), \u001b[39mdict\u001b[39m(dtype\u001b[39m=\u001b[39mag__\u001b[39m.\u001b[39mld(input_ids)\u001b[39m.\u001b[39mdtype), fscope)), \u001b[39mdict\u001b[39m(message\u001b[39m=\u001b[39m\u001b[39mf\u001b[39m\u001b[39m\"\u001b[39m\u001b[39minput_ids must be smaller than the embedding layer\u001b[39m\u001b[39m'\u001b[39m\u001b[39ms input dimension (got \u001b[39m\u001b[39m{\u001b[39;00mag__\u001b[39m.\u001b[39;49mconverted_call(ag__\u001b[39m.\u001b[39;49mld(tf)\u001b[39m.\u001b[39;49mmath\u001b[39m.\u001b[39;49mreduce_max,\u001b[39m \u001b[39;49m(ag__\u001b[39m.\u001b[39;49mld(input_ids),),\u001b[39m \u001b[39;49m\u001b[39mNone\u001b[39;49;00m,\u001b[39m \u001b[39;49mfscope)\u001b[39m}\u001b[39;00m\u001b[39m >= \u001b[39m\u001b[39m{\u001b[39;00mag__\u001b[39m.\u001b[39mld(\u001b[39mself\u001b[39m)\u001b[39m.\u001b[39mconfig\u001b[39m.\u001b[39mvocab_size\u001b[39m}\u001b[39;00m\u001b[39m)\u001b[39m\u001b[39m\"\u001b[39m), fscope)\n\u001b[0;32m     40\u001b[0m     inputs_embeds \u001b[39m=\u001b[39m ag__\u001b[39m.\u001b[39mconverted_call(ag__\u001b[39m.\u001b[39mld(tf)\u001b[39m.\u001b[39mgather, (), \u001b[39mdict\u001b[39m(params\u001b[39m=\u001b[39mag__\u001b[39m.\u001b[39mld(\u001b[39mself\u001b[39m)\u001b[39m.\u001b[39mweight, indices\u001b[39m=\u001b[39mag__\u001b[39m.\u001b[39mld(input_ids)), fscope)\n",
      "\u001b[1;31mTypeError\u001b[0m: in user code:\n\n    File \"c:\\Users\\duggurd\\New Folder\\graduation_project\\.venv\\lib\\site-packages\\keras\\engine\\training.py\", line 1249, in train_function  *\n        return step_function(self, iterator)\n    File \"c:\\Users\\duggurd\\New Folder\\graduation_project\\.venv\\lib\\site-packages\\keras\\engine\\training.py\", line 1233, in step_function  **\n        outputs = model.distribute_strategy.run(run_step, args=(data,))\n    File \"c:\\Users\\duggurd\\New Folder\\graduation_project\\.venv\\lib\\site-packages\\keras\\engine\\training.py\", line 1222, in run_step  **\n        outputs = model.train_step(data)\n    File \"c:\\Users\\duggurd\\New Folder\\graduation_project\\.venv\\lib\\site-packages\\transformers\\modeling_tf_utils.py\", line 1535, in train_step\n        y_pred = self(x, training=True)\n    File \"c:\\Users\\duggurd\\New Folder\\graduation_project\\.venv\\lib\\site-packages\\keras\\utils\\traceback_utils.py\", line 70, in error_handler\n        raise e.with_traceback(filtered_tb) from None\n    File \"C:\\Users\\duggurd\\AppData\\Local\\Temp\\__autograph_generated_fileyveartyu.py\", line 36, in tf__run_call_with_unpacked_inputs\n        retval_ = ag__.converted_call(ag__.ld(func), (ag__.ld(self),), dict(**ag__.ld(unpacked_inputs)), fscope)\n    File \"C:\\Users\\duggurd\\AppData\\Local\\Temp\\__autograph_generated_file738nt95y.py\", line 16, in tf__call\n        outputs = ag__.converted_call(ag__.ld(self).bert, (), dict(input_ids=ag__.ld(input_ids), attention_mask=ag__.ld(attention_mask), token_type_ids=ag__.ld(token_type_ids), position_ids=ag__.ld(position_ids), head_mask=ag__.ld(head_mask), inputs_embeds=ag__.ld(inputs_embeds), output_attentions=ag__.ld(output_attentions), output_hidden_states=ag__.ld(output_hidden_states), return_dict=ag__.ld(return_dict), training=ag__.ld(training)), fscope)\n    File \"C:\\Users\\duggurd\\AppData\\Local\\Temp\\__autograph_generated_fileyveartyu.py\", line 36, in tf__run_call_with_unpacked_inputs\n        retval_ = ag__.converted_call(ag__.ld(func), (ag__.ld(self),), dict(**ag__.ld(unpacked_inputs)), fscope)\n    File \"C:\\Users\\duggurd\\AppData\\Local\\Temp\\__autograph_generated_fileqnnp6umo.py\", line 126, in tf__call\n        embedding_output = ag__.converted_call(ag__.ld(self).embeddings, (), dict(input_ids=ag__.ld(input_ids), position_ids=ag__.ld(position_ids), token_type_ids=ag__.ld(token_type_ids), inputs_embeds=ag__.ld(inputs_embeds), past_key_values_length=ag__.ld(past_key_values_length), training=ag__.ld(training)), fscope)\n    File \"C:\\Users\\duggurd\\AppData\\Local\\Temp\\__autograph_generated_file5ajvmeqk.py\", line 45, in tf__call\n        ag__.if_stmt(ag__.ld(input_ids) is not None, if_body_1, else_body_1, get_state_1, set_state_1, ('inputs_embeds',), 1)\n    File \"C:\\Users\\duggurd\\AppData\\Local\\Temp\\__autograph_generated_file5ajvmeqk.py\", line 39, in if_body_1\n        ag__.converted_call(ag__.ld(tf).debugging.assert_less, (ag__.ld(input_ids), ag__.converted_call(ag__.ld(tf).cast, (ag__.ld(self).config.vocab_size,), dict(dtype=ag__.ld(input_ids).dtype), fscope)), dict(message=f\"input_ids must be smaller than the embedding layer's input dimension (got {ag__.converted_call(ag__.ld(tf).math.reduce_max, (ag__.ld(input_ids),), None, fscope)} >= {ag__.ld(self).config.vocab_size})\"), fscope)\n\n    TypeError: Exception encountered when calling layer 'tf_bert_for_sequence_classification' (type TFBertForSequenceClassification).\n    \n    in user code:\n    \n        File \"c:\\Users\\duggurd\\New Folder\\graduation_project\\.venv\\lib\\site-packages\\transformers\\modeling_tf_utils.py\", line 1640, in run_call_with_unpacked_inputs  *\n            return func(self, **unpacked_inputs)\n        File \"c:\\Users\\duggurd\\New Folder\\graduation_project\\.venv\\lib\\site-packages\\transformers\\models\\bert\\modeling_tf_bert.py\", line 1652, in call  *\n            outputs = self.bert(\n        File \"c:\\Users\\duggurd\\New Folder\\graduation_project\\.venv\\lib\\site-packages\\keras\\utils\\traceback_utils.py\", line 70, in error_handler  **\n            raise e.with_traceback(filtered_tb) from None\n        File \"C:\\Users\\duggurd\\AppData\\Local\\Temp\\__autograph_generated_fileyveartyu.py\", line 36, in tf__run_call_with_unpacked_inputs\n            retval_ = ag__.converted_call(ag__.ld(func), (ag__.ld(self),), dict(**ag__.ld(unpacked_inputs)), fscope)\n        File \"C:\\Users\\duggurd\\AppData\\Local\\Temp\\__autograph_generated_fileqnnp6umo.py\", line 126, in tf__call\n            embedding_output = ag__.converted_call(ag__.ld(self).embeddings, (), dict(input_ids=ag__.ld(input_ids), position_ids=ag__.ld(position_ids), token_type_ids=ag__.ld(token_type_ids), inputs_embeds=ag__.ld(inputs_embeds), past_key_values_length=ag__.ld(past_key_values_length), training=ag__.ld(training)), fscope)\n        File \"C:\\Users\\duggurd\\AppData\\Local\\Temp\\__autograph_generated_file5ajvmeqk.py\", line 45, in tf__call\n            ag__.if_stmt(ag__.ld(input_ids) is not None, if_body_1, else_body_1, get_state_1, set_state_1, ('inputs_embeds',), 1)\n        File \"C:\\Users\\duggurd\\AppData\\Local\\Temp\\__autograph_generated_file5ajvmeqk.py\", line 39, in if_body_1\n            ag__.converted_call(ag__.ld(tf).debugging.assert_less, (ag__.ld(input_ids), ag__.converted_call(ag__.ld(tf).cast, (ag__.ld(self).config.vocab_size,), dict(dtype=ag__.ld(input_ids).dtype), fscope)), dict(message=f\"input_ids must be smaller than the embedding layer's input dimension (got {ag__.converted_call(ag__.ld(tf).math.reduce_max, (ag__.ld(input_ids),), None, fscope)} >= {ag__.ld(self).config.vocab_size})\"), fscope)\n    \n        TypeError: Exception encountered when calling layer 'bert' (type TFBertMainLayer).\n        \n        in user code:\n        \n            File \"c:\\Users\\duggurd\\New Folder\\graduation_project\\.venv\\lib\\site-packages\\transformers\\modeling_tf_utils.py\", line 1640, in run_call_with_unpacked_inputs  *\n                return func(self, **unpacked_inputs)\n            File \"c:\\Users\\duggurd\\New Folder\\graduation_project\\.venv\\lib\\site-packages\\transformers\\models\\bert\\modeling_tf_bert.py\", line 789, in call  *\n                embedding_output = self.embeddings(\n            File \"c:\\Users\\duggurd\\New Folder\\graduation_project\\.venv\\lib\\site-packages\\keras\\utils\\traceback_utils.py\", line 70, in error_handler  **\n                raise e.with_traceback(filtered_tb) from None\n            File \"C:\\Users\\duggurd\\AppData\\Local\\Temp\\__autograph_generated_file5ajvmeqk.py\", line 45, in tf__call\n                ag__.if_stmt(ag__.ld(input_ids) is not None, if_body_1, else_body_1, get_state_1, set_state_1, ('inputs_embeds',), 1)\n            File \"C:\\Users\\duggurd\\AppData\\Local\\Temp\\__autograph_generated_file5ajvmeqk.py\", line 39, in if_body_1\n                ag__.converted_call(ag__.ld(tf).debugging.assert_less, (ag__.ld(input_ids), ag__.converted_call(ag__.ld(tf).cast, (ag__.ld(self).config.vocab_size,), dict(dtype=ag__.ld(input_ids).dtype), fscope)), dict(message=f\"input_ids must be smaller than the embedding layer's input dimension (got {ag__.converted_call(ag__.ld(tf).math.reduce_max, (ag__.ld(input_ids),), None, fscope)} >= {ag__.ld(self).config.vocab_size})\"), fscope)\n        \n            TypeError: Exception encountered when calling layer 'embeddings' (type TFBertEmbeddings).\n            \n            in user code:\n            \n                File \"c:\\Users\\duggurd\\New Folder\\graduation_project\\.venv\\lib\\site-packages\\transformers\\models\\bert\\modeling_tf_bert.py\", line 203, in call  *\n                    tf.debugging.assert_less(\n            \n                TypeError: Value passed to parameter 'input' has DataType string not in list of allowed values: float32, float64, int32, uint8, int16, int8, int64, bfloat16, uint16, float16, uint32, uint64, qint8, quint8, qint32, qint16, quint16\n            \n            \n            Call arguments received by layer 'embeddings' (type TFBertEmbeddings):\n              • input_ids=tf.Tensor(shape=(None, 3), dtype=string)\n              • position_ids=None\n              • token_type_ids=tf.Tensor(shape=(None, 3), dtype=int32)\n              • inputs_embeds=None\n              • past_key_values_length=0\n              • training=True\n        \n        \n        Call arguments received by layer 'bert' (type TFBertMainLayer):\n          • self=tf.Tensor(shape=(None, 3), dtype=string)\n          • input_ids=None\n          • attention_mask=None\n          • token_type_ids=None\n          • position_ids=None\n          • head_mask=None\n          • inputs_embeds=None\n          • encoder_hidden_states=None\n          • encoder_attention_mask=None\n          • past_key_values=None\n          • use_cache=None\n          • output_attentions=False\n          • output_hidden_states=False\n          • return_dict=True\n          • training=True\n    \n    \n    Call arguments received by layer 'tf_bert_for_sequence_classification' (type TFBertForSequenceClassification):\n      • self=tf.Tensor(shape=(None, 3), dtype=string)\n      • input_ids=None\n      • attention_mask=None\n      • token_type_ids=None\n      • position_ids=None\n      • head_mask=None\n      • inputs_embeds=None\n      • output_attentions=None\n      • output_hidden_states=None\n      • return_dict=None\n      • labels=None\n      • training=True\n"
     ]
    }
   ],
   "source": [
    "model.fit(x_train, y_train)"
   ]
  },
  {
   "cell_type": "code",
   "execution_count": 61,
   "metadata": {},
   "outputs": [
    {
     "name": "stdout",
     "output_type": "stream",
     "text": [
      "1/1 [==============================] - 6s 6s/step\n"
     ]
    },
    {
     "data": {
      "text/plain": [
       "TFSequenceClassifierOutput(loss=None, logits=array([[-0.11263449,  0.12426157]], dtype=float32), hidden_states=None, attentions=None)"
      ]
     },
     "execution_count": 61,
     "metadata": {},
     "output_type": "execute_result"
    }
   ],
   "source": [
    "model.predict(tokenize(\"hello\")[\"input_ids\"])"
   ]
  },
  {
   "cell_type": "code",
   "execution_count": null,
   "metadata": {},
   "outputs": [],
   "source": []
  }
 ],
 "metadata": {
  "kernelspec": {
   "display_name": ".venv",
   "language": "python",
   "name": "python3"
  },
  "language_info": {
   "codemirror_mode": {
    "name": "ipython",
    "version": 3
   },
   "file_extension": ".py",
   "mimetype": "text/x-python",
   "name": "python",
   "nbconvert_exporter": "python",
   "pygments_lexer": "ipython3",
   "version": "3.9.13"
  },
  "orig_nbformat": 4,
  "vscode": {
   "interpreter": {
    "hash": "d8996c41306a955084732ca4b0ba338895ff13d1921cf86d4d193db4a88f75fa"
   }
  }
 },
 "nbformat": 4,
 "nbformat_minor": 2
}
