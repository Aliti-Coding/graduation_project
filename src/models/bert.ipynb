{
 "cells": [
  {
   "cell_type": "code",
   "execution_count": null,
   "metadata": {},
   "outputs": [],
   "source": [
    "import transformers\n",
    "from transformers import DistilBertTokenizerFast, TFDistilBertForSequenceClassification\n",
    "import numpy as np\n",
    "from tensorflow import Tensor\n",
    "import pandas as pd\n",
    "import tensorflow as tf\n",
    "import keras\n",
    "\n",
    "from sklearn.model_selection import train_test_split\n",
    "from sklearn.metrics import mean_squared_error, mean_absolute_error, roc_auc_score, accuracy_score\n",
    "\n",
    "VOCAB_SIZE = 15000\n",
    "SEQUENCE_LENGTH = 100\n",
    "EMBED_DIM = 8\n",
    "SEED = 0\n",
    "\n",
    "DATA_PATH=r\"../../data/transformed/amazon_reviews_5_partition_1.csv\"\n",
    "\n",
    "BERT_MODEL = \"distilbert-base-uncased-finetuned-sst-2-english\""
   ]
  },
  {
   "cell_type": "code",
   "execution_count": null,
   "metadata": {},
   "outputs": [],
   "source": [
    "# Downloading and instantiating pre-trained model and tokenizer\n",
    "model = TFDistilBertForSequenceClassification.from_pretrained(BERT_MODEL, num_labels=2)\n",
    "tokenizer = DistilBertTokenizerFast.from_pretrained(BERT_MODEL)\n"
   ]
  },
  {
   "cell_type": "code",
   "execution_count": null,
   "metadata": {},
   "outputs": [],
   "source": [
    "# Creating a model that takes logits from bert as input\n",
    "inputs = keras.Input(shape=(2,),dtype=\"int64\")\n",
    "x = keras.layers.Dense(100, activation=\"relu\")(inputs)\n",
    "outputs = keras.layers.Dense(1)(x)\n",
    "regressor = keras.Model(inputs=inputs, outputs=outputs)"
   ]
  },
  {
   "cell_type": "code",
   "execution_count": null,
   "metadata": {},
   "outputs": [],
   "source": [
    "# Getting data\n",
    "df = pd.read_csv(\n",
    "    DATA_PATH,\n",
    "    index_col=0,\n",
    "    nrows = 10\n",
    ")\n",
    "df = df.dropna()\n",
    "df[\"reviewText\"] = df[\"reviewText\"].convert_dtypes(convert_string=True)"
   ]
  },
  {
   "cell_type": "code",
   "execution_count": null,
   "metadata": {},
   "outputs": [],
   "source": [
    "# Creating x and y for training\n",
    "x = tokenizer(\n",
    "    df[\"reviewText\"].to_list(),\n",
    "    truncation=True,\n",
    "    padding=True,\n",
    "    return_tensors=\"tf\"\n",
    ")\n",
    "\n",
    "y = (df[\"overall\"] > 3) * 1\n",
    "\n",
    "x=dict(x)"
   ]
  },
  {
   "cell_type": "code",
   "execution_count": null,
   "metadata": {},
   "outputs": [],
   "source": [
    "# Compiling the bert model, binary predictions\n",
    "model.compile(\n",
    "    optimizer=\"adam\", \n",
    "    loss=\"sparse_categorical_crossentropy\", \n",
    "    metrics=[\"accuracy\"]\n",
    ")"
   ]
  },
  {
   "cell_type": "code",
   "execution_count": null,
   "metadata": {},
   "outputs": [],
   "source": [
    "# Creating inputs for regressor model\n",
    "preds = model.predict(x)[\"logits\"]"
   ]
  },
  {
   "cell_type": "code",
   "execution_count": null,
   "metadata": {},
   "outputs": [],
   "source": [
    "# Compiling regressor top-hat model\n",
    "regressor.compile(\n",
    "    optimizer=\"adam\", \n",
    "    loss=\"mse\", \n",
    "    metrics=\"mae\"\n",
    ")"
   ]
  },
  {
   "cell_type": "code",
   "execution_count": null,
   "metadata": {},
   "outputs": [],
   "source": [
    "# Fitting regressor models on predictions from bert\n",
    "regressor.fit(\n",
    "    preds, \n",
    "    np.array(y), \n",
    "    epochs=100\n",
    ")"
   ]
  }
 ],
 "metadata": {
  "kernelspec": {
   "display_name": ".venv",
   "language": "python",
   "name": "python3"
  },
  "language_info": {
   "codemirror_mode": {
    "name": "ipython",
    "version": 3
   },
   "file_extension": ".py",
   "mimetype": "text/x-python",
   "name": "python",
   "nbconvert_exporter": "python",
   "pygments_lexer": "ipython3",
   "version": "3.9.13"
  },
  "orig_nbformat": 4,
  "vscode": {
   "interpreter": {
    "hash": "d8996c41306a955084732ca4b0ba338895ff13d1921cf86d4d193db4a88f75fa"
   }
  }
 },
 "nbformat": 4,
 "nbformat_minor": 2
}
