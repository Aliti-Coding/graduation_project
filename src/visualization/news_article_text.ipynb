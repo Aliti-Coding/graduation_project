{
 "cells": [
  {
   "cell_type": "code",
   "execution_count": 80,
   "metadata": {},
   "outputs": [],
   "source": [
    "from connect_db import connect_to_grad_db\n",
    "import pandas as pd\n",
    "import re\n",
    "import math"
   ]
  },
  {
   "cell_type": "code",
   "execution_count": 2,
   "metadata": {},
   "outputs": [],
   "source": [
    "engine = connect_to_grad_db()"
   ]
  },
  {
   "cell_type": "code",
   "execution_count": 5,
   "metadata": {},
   "outputs": [],
   "source": [
    "reader = pd.read_sql(\"news_api_w_preds\", engine.connect(), chunksize=1)"
   ]
  },
  {
   "cell_type": "code",
   "execution_count": 6,
   "metadata": {},
   "outputs": [],
   "source": [
    "df = reader.__next__()"
   ]
  },
  {
   "cell_type": "code",
   "execution_count": 10,
   "metadata": {},
   "outputs": [],
   "source": [
    "text_w_preds = df[\"text_w_preds\"].iloc[0]"
   ]
  },
  {
   "cell_type": "code",
   "execution_count": 24,
   "metadata": {},
   "outputs": [],
   "source": [
    "sentences = re.split(r\"\\. \", text_w_preds)"
   ]
  },
  {
   "cell_type": "code",
   "execution_count": 192,
   "metadata": {},
   "outputs": [],
   "source": [
    "banners = {\n",
    "    \"fox-news\":\"https://s1.qwant.com/thumbr/0x380/9/6/9484111a9e2eb4cbb8ede5d0bc606c378ed898aeb7f1bd2dd64a13b79b7d16/1200px-Fox_News_Channel_logo.svg.png?u=https%3A%2F%2Fupload.wikimedia.org%2Fwikipedia%2Fcommons%2Fthumb%2F6%2F67%2FFox_News_Channel_logo.svg%2F1200px-Fox_News_Channel_logo.svg.png&q=0&b=1&p=0&a=0\",\n",
    "    \"abc-news\":\"https://s1.qwant.com/thumbr/700x0/3/e/0247f90b2a3859f30c2f2aa3bf8c0a4a3bb5fb50a4356a0fabc82cb6a014b6/latest.jpg?u=https%3A%2F%2Fvignette4.wikia.nocookie.net%2Flogopedia%2Fimages%2Fe%2Fe1%2FABC_News.jpg%2Frevision%2Flatest%3Fcb%3D20151013161111&q=0&b=1&p=0&a=0\",\n",
    "    \"cnn\":\"https://s2.qwant.com/thumbr/700x0/f/e/fb9962b40abff59c434b2e63eb63d72021cb7912e6f784bd2388fd21ff67c4/cnn-logo-1-1.png?u=https%3A%2F%2Flogodownload.org%2Fwp-content%2Fuploads%2F2014%2F11%2Fcnn-logo-1-1.png&q=0&b=1&p=0&a=0\",\n",
    "    \"al-jazeera-english\":\"https://s2.qwant.com/thumbr/0x380/6/e/8509f372409f486f2279183019365bd9b0599d3b4c01dd6829861561e0e77e/JAZEERA-LOGO.jpg?u=http%3A%2F%2Fwww.wired.com%2Fwp-content%2Fuploads%2Fimages_blogs%2Fbusiness%2F2011%2F01%2FJAZEERA-LOGO.jpg&q=0&b=1&p=0&a=0\"\n",
    "\n",
    "}"
   ]
  },
  {
   "cell_type": "code",
   "execution_count": 134,
   "metadata": {},
   "outputs": [],
   "source": [
    "def decimal_to_rbg(decimal):\n",
    "    r = int((4-decimal)*255/4)\n",
    "    g = int((decimal)*255/4)\n",
    "    b = 120\n",
    "\n",
    "\n",
    "    return f\"rgb({r}, {g}, {b})\""
   ]
  },
  {
   "cell_type": "code",
   "execution_count": 170,
   "metadata": {},
   "outputs": [],
   "source": [
    "html_sentences = []\n",
    "for sentence in sentences:\n",
    "    pred = float(re.search(r\"\\[\\[(.*)\\]\\]\", sentence).group(1))\n",
    "\n",
    "    pred_color = decimal_to_rbg(pred)\n",
    "    html_text = fr'<t style=\"background-color:{pred_color};\">{sentence}.</t>'\n",
    "\n",
    "    html_sentences.append(html_text)"
   ]
  },
  {
   "cell_type": "code",
   "execution_count": 200,
   "metadata": {},
   "outputs": [],
   "source": [
    "title = df[\"title\"].iloc[0]\n",
    "title = f\"<h1>{title}</h1>\"\n",
    "\n",
    "date= df[\"publishedAt\"].iloc[0]\n",
    "date = f\"<p>Published: {date}</p>\"\n",
    "\n",
    "author = df[\"author\"].iloc[0]\n",
    "author = f\"<p>Written by: {author}</p>\"\n",
    "\n",
    "mean_pred = df[\"mean_preds\"].iloc[0]\n",
    "mean_pred = f\"<b style='background-color:{decimal_to_rbg(mean_pred)};padding:0px;'>{mean_pred}</b>\"\n",
    "\n",
    "source = df[\"source\"].iloc[0]\n",
    "banner = f\"<img src='{banners[source]}' style='height:100px;'>\"\n"
   ]
  },
  {
   "cell_type": "code",
   "execution_count": 201,
   "metadata": {},
   "outputs": [],
   "source": [
    "with open(\"html_test.html\", \"w\") as file:\n",
    "    file.write(\"<!DOCTYPE html>\")\n",
    "    file.write(\"<html>\")\n",
    "    file.write(banner)\n",
    "    file.write(title)\n",
    "    file.write(f\"<p>Source: {source}</p>\")\n",
    "    file.write(date)\n",
    "    file.write(author)\n",
    "    file.write(f\"Sentiment overall: <br>{mean_pred}<br><br>\")\n",
    "    file.write(\n",
    "\"\"\"\n",
    "<style>\n",
    "\n",
    "    t {\n",
    "        font-size: large;\n",
    "    }\n",
    "\n",
    "    html {\n",
    "        margin:0 450px;\n",
    "        text-align: center;\n",
    "        font-family: system-ui, -apple-system, BlinkMacSystemFont, 'Segoe UI', Roboto, Oxygen, Ubuntu, Cantarell, 'Open Sans', 'Helvetica Neue', sans-serif;\n",
    "    }\n",
    "\n",
    "\n",
    "\n",
    "</style>\n",
    "\"\"\")\n",
    "    file.write(\"\".join(html_sentences))\n",
    "    file.write(\"</html>\")"
   ]
  },
  {
   "cell_type": "code",
   "execution_count": null,
   "metadata": {},
   "outputs": [],
   "source": []
  }
 ],
 "metadata": {
  "kernelspec": {
   "display_name": ".venv",
   "language": "python",
   "name": "python3"
  },
  "language_info": {
   "codemirror_mode": {
    "name": "ipython",
    "version": 3
   },
   "file_extension": ".py",
   "mimetype": "text/x-python",
   "name": "python",
   "nbconvert_exporter": "python",
   "pygments_lexer": "ipython3",
   "version": "3.9.13"
  },
  "orig_nbformat": 4,
  "vscode": {
   "interpreter": {
    "hash": "d8996c41306a955084732ca4b0ba338895ff13d1921cf86d4d193db4a88f75fa"
   }
  }
 },
 "nbformat": 4,
 "nbformat_minor": 2
}
