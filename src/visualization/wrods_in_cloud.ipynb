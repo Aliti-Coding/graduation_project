{
 "cells": [
  {
   "cell_type": "code",
   "execution_count": null,
   "metadata": {},
   "outputs": [],
   "source": [
    "from sqlalchemy import TextClause, Row, create_engine\n",
    "import re\n",
    "\n",
    "import pandas as pd\n",
    "import sys\n",
    "\n",
    "\n",
    "sys.path.insert(1, r\"..\\models\")\n",
    "sys.path.insert(2, r\"..\\etl\")\n",
    "sys.path.insert(3, r\"..\\predictions\")\n",
    "from src.models.lstm_model import load_model_weights_from_checkpoint\n",
    "from connect_db import connect_to_grad_db\n",
    "from preprocess import ready_text_for_pred\n",
    "from tfidf_functions import *\n",
    "from words_in_cloud import word_cloud\n"
   ]
  },
  {
   "cell_type": "code",
   "execution_count": null,
   "metadata": {},
   "outputs": [],
   "source": [
    "\n",
    "engine = connect_to_grad_db()"
   ]
  },
  {
   "cell_type": "code",
   "execution_count": null,
   "metadata": {},
   "outputs": [],
   "source": [
    "\n",
    "with engine.connect() as conn:\n",
    "    query = TextClause(\"select * from trustpilot_api\")\n",
    "    content = conn.execute(query).fetchall()\n",
    "  "
   ]
  },
  {
   "cell_type": "code",
   "execution_count": null,
   "metadata": {},
   "outputs": [],
   "source": [
    "df_trust_pilot = pd.DataFrame(content)\n",
    "df_trust_pilot_tesla = df_trust_pilot[df_trust_pilot['reviews_for_site'] == \"www.teslamotors.com\"]\n",
    "df_trust_pilot_nor = df_trust_pilot[df_trust_pilot['reviews_for_site'] == \"www.norwegian.com\"]\n",
    "df_trust_pilot"
   ]
  },
  {
   "cell_type": "code",
   "execution_count": null,
   "metadata": {},
   "outputs": [],
   "source": [
    "\n",
    "\n",
    "clean_reviews = clean_data(df_trust_pilot_tesla['text'])\n",
    "clean_reviews = \" \".join(clean_reviews)\n"
   ]
  },
  {
   "cell_type": "code",
   "execution_count": null,
   "metadata": {},
   "outputs": [],
   "source": [
    "\n",
    "cloud_words = word_cloud(clean_reviews, \"..\\..\\IMG\\Trustpilot_tesla.png\")\n",
    "\n"
   ]
  },
  {
   "cell_type": "code",
   "execution_count": null,
   "metadata": {},
   "outputs": [],
   "source": [
    "from tfidf_functions import *\n",
    "\n",
    "df_hottest_word = hottest_word(df['text'])\n",
    "\n",
    "df_concat = pd.concat([df, df_hottest_word], axis=1)\n",
    "\n",
    "df_concat\n",
    "# df_concat.to_sql('trustpilot_api', con=engine, if_exists='append', index=False)"
   ]
  }
 ],
 "metadata": {
  "kernelspec": {
   "display_name": "Python 3",
   "language": "python",
   "name": "python3"
  },
  "language_info": {
   "name": "python",
   "version": "3.10.10"
  },
  "orig_nbformat": 4,
  "vscode": {
   "interpreter": {
    "hash": "bebc719c1a5129d18b92cf73783d66f7154b28203397ec213f9ee16fb76f3f07"
   }
  }
 },
 "nbformat": 4,
 "nbformat_minor": 2
}
