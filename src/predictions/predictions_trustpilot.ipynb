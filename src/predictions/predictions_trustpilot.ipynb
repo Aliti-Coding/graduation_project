{
 "cells": [
  {
   "cell_type": "code",
   "execution_count": 3,
   "metadata": {},
   "outputs": [],
   "source": [
    "import pandas as pd\n",
    "\n",
    "from sklearn.metrics import mean_squared_error, mean_absolute_error\n",
    "from connect_db import connect_to_grad_db\n",
    "import keras"
   ]
  },
  {
   "cell_type": "code",
   "execution_count": 2,
   "metadata": {},
   "outputs": [],
   "source": [
    "model = keras.models.load_model(\"../../saved_models/2dcnn_32_16_32_250k_rows/\")"
   ]
  },
  {
   "cell_type": "code",
   "execution_count": 6,
   "metadata": {},
   "outputs": [],
   "source": [
    "engine = connect_to_grad_db()\n",
    "conn = engine.connect()"
   ]
  },
  {
   "cell_type": "code",
   "execution_count": 7,
   "metadata": {},
   "outputs": [],
   "source": [
    "df = pd.read_sql(\"trustpilot_api\", conn)"
   ]
  },
  {
   "cell_type": "code",
   "execution_count": 9,
   "metadata": {},
   "outputs": [
    {
     "data": {
      "text/html": [
       "<div>\n",
       "<style scoped>\n",
       "    .dataframe tbody tr th:only-of-type {\n",
       "        vertical-align: middle;\n",
       "    }\n",
       "\n",
       "    .dataframe tbody tr th {\n",
       "        vertical-align: top;\n",
       "    }\n",
       "\n",
       "    .dataframe thead th {\n",
       "        text-align: right;\n",
       "    }\n",
       "</style>\n",
       "<table border=\"1\" class=\"dataframe\">\n",
       "  <thead>\n",
       "    <tr style=\"text-align: right;\">\n",
       "      <th></th>\n",
       "      <th>text</th>\n",
       "      <th>rating</th>\n",
       "      <th>title</th>\n",
       "      <th>creation_date</th>\n",
       "      <th>reviews_for_site</th>\n",
       "    </tr>\n",
       "  </thead>\n",
       "  <tbody>\n",
       "    <tr>\n",
       "      <th>344</th>\n",
       "      <td>The worst customer service. Car gets towed bee...</td>\n",
       "      <td>1</td>\n",
       "      <td>The worst customer service</td>\n",
       "      <td>2023-01-26 23:49:43+00:00</td>\n",
       "      <td>www.teslamotors.com</td>\n",
       "    </tr>\n",
       "    <tr>\n",
       "      <th>1445</th>\n",
       "      <td>Rude customer service they force me to pay two...</td>\n",
       "      <td>1</td>\n",
       "      <td>Rude customer service they force me to…</td>\n",
       "      <td>2023-01-17 14:55:36+00:00</td>\n",
       "      <td>www.norwegian.com</td>\n",
       "    </tr>\n",
       "    <tr>\n",
       "      <th>1107</th>\n",
       "      <td>My flight amsterdam-Stockholm was cancelled so...</td>\n",
       "      <td>5</td>\n",
       "      <td>My flight amsterdam-Stockholm was…</td>\n",
       "      <td>2022-12-17 12:27:54+00:00</td>\n",
       "      <td>www.norwegian.com</td>\n",
       "    </tr>\n",
       "  </tbody>\n",
       "</table>\n",
       "</div>"
      ],
      "text/plain": [
       "                                                   text  rating  \\\n",
       "344   The worst customer service. Car gets towed bee...       1   \n",
       "1445  Rude customer service they force me to pay two...       1   \n",
       "1107  My flight amsterdam-Stockholm was cancelled so...       5   \n",
       "\n",
       "                                        title             creation_date  \\\n",
       "344                The worst customer service 2023-01-26 23:49:43+00:00   \n",
       "1445  Rude customer service they force me to… 2023-01-17 14:55:36+00:00   \n",
       "1107       My flight amsterdam-Stockholm was… 2022-12-17 12:27:54+00:00   \n",
       "\n",
       "         reviews_for_site  \n",
       "344   www.teslamotors.com  \n",
       "1445    www.norwegian.com  \n",
       "1107    www.norwegian.com  "
      ]
     },
     "execution_count": 9,
     "metadata": {},
     "output_type": "execute_result"
    }
   ],
   "source": [
    "df.sample(3)"
   ]
  },
  {
   "cell_type": "code",
   "execution_count": null,
   "metadata": {},
   "outputs": [],
   "source": [
    "x = df[\"text\"]"
   ]
  }
 ],
 "metadata": {
  "kernelspec": {
   "display_name": ".venv",
   "language": "python",
   "name": "python3"
  },
  "language_info": {
   "codemirror_mode": {
    "name": "ipython",
    "version": 3
   },
   "file_extension": ".py",
   "mimetype": "text/x-python",
   "name": "python",
   "nbconvert_exporter": "python",
   "pygments_lexer": "ipython3",
   "version": "3.10.10"
  },
  "orig_nbformat": 4,
  "vscode": {
   "interpreter": {
    "hash": "d8996c41306a955084732ca4b0ba338895ff13d1921cf86d4d193db4a88f75fa"
   }
  }
 },
 "nbformat": 4,
 "nbformat_minor": 2
}
