{
 "cells": [
  {
   "cell_type": "code",
   "execution_count": 125,
   "metadata": {},
   "outputs": [],
   "source": [
    "from sqlalchemy import TextClause, Row\n",
    "import re\n",
    "\n",
    "import pandas as pd\n",
    "import sys\n",
    "\n",
    "from sklearn.metrics import confusion_matrix\n",
    "from sklearn.metrics import ConfusionMatrixDisplay\n",
    "\n",
    "\n",
    "sys.path.insert(1, r\"..\\models\")\n",
    "sys.path.insert(2, r\"..\\etl\")\n",
    "\n",
    "from lstm_model import load_model_weights_from_checkpoint\n",
    "from connect_db import connect_to_grad_db"
   ]
  },
  {
   "cell_type": "code",
   "execution_count": 80,
   "metadata": {},
   "outputs": [],
   "source": [
    "model = load_model_weights_from_checkpoint() "
   ]
  },
  {
   "cell_type": "code",
   "execution_count": 81,
   "metadata": {},
   "outputs": [],
   "source": [
    "engine = connect_to_grad_db()"
   ]
  },
  {
   "cell_type": "code",
   "execution_count": 82,
   "metadata": {},
   "outputs": [],
   "source": [
    "with engine.connect() as conn:\n",
    "    query = TextClause(\"select content from news_api\")\n",
    "    content = conn.execute(query).fetchall()"
   ]
  },
  {
   "cell_type": "code",
   "execution_count": 83,
   "metadata": {},
   "outputs": [
    {
     "data": {
      "text/plain": [
       "\"\\n\\n\\n\\n\\n\\n\\n\\n\\n\\nDuangpetch Phromthep speaks at a news conference in Thailand following his rescue from a cave in July 2018. \\n\\nSoe Zeya Tun/Reuters\\n\\n\\n\\n\\n\\n\\n\\nLondon\\nCNN\\n        \\xa0—\\xa0\\n    \\n\\n\\nDuangphet Phromthep, one of the 12 boys rescued from a flooded Thai cave after a weekslong operation that drew global attention in 2018, has died in the UK, British and Thai officials announced Wednesday. \\n  \\n\\n      Phromthep, who was enrolled in a soccer academy in Leicestershire, England, died after being rushed to hospital on Sunday, Leicestershire Police said in a statement to CNN. \\n  \\n\\n      Th northern regional branch of the Thai government’s public relations arm said on Facebook that Phromthep, 17, died due to an accident, without providing more details. \\n  \\n\\n      “The atmosphere at his house in Chiang Rai province was full of sorrow,” PR Thailand’s statement said. \\n  \\n\\n      Zico Foundation, a Thai non-profit organization which had helped Phromthep study in the UK via a soccer scholarship, wrote on Facebook Wednesday: “Zico Foundation would like to express our sorrow for the pass of Dom Duangpet Phromthep, a scholarship student from Zico foundation,” posting a picture of Phromthep. \\n  \\n\\n\\n\\n\\n\\n\\nRelatives of Duangphet Phromthep greet him following his rescue in July 2018. \\n\\nSakchai Lalit/AP\\n\\n\\n\\n    A daring rescue\\n\\n\\n      Phromthep was the captain of the Wild Boars youth soccer team which was rescued after being trapped for more than two weeks in a flooded cave network in the northern Thai province of  Chiang Rai in the summer of 2018.\\n  \\n\\n      The 12 boys and their coach became trapped when rising flood water cut them off deep inside the cave, sparking what became a near three-week international rescue effort. \\n  \\n\\n      Divers involved in the rescue described treacherous conditions, with fast-moving shallow water passing through very narrow passages.\\n  \\n\\n      In a complicated three-day final operation, the boys were split into groups of four and provided with 5-millimeter-thick wetsuits, full face mask breathing apparatus and air bottles.\\n  \\n\\n      Each boy was taken out by two divers, who carried their oxygen tanks and guided them through murky tunnels. Each rescue took several hours, with much of the time spent under water.\\n  \\n\\n      The most dangerous part was the first kilometer, during which the divers and boys were required to squeeze through a narrow, flooded channel.\\n  \\n\\n      Rescuers needed to hold the boys’ oxygen tanks in front of them and swim pencil-like through submerged holes. Having completed this section, the boys were then handed over to separate, specialist rescue teams, who helped assist them through the remainder of the cave, much of which they could wade through.\\n  \\n\\n\\n\\n\\n\\n\\n\\n\\n\\nCHIANG RAI, THAILAND - July 10: Onlookers at the junction in front of Chiangrai Prachanukroh Hospital watch and cheer as ambulances transport the last rescued schoolboys and their coach from a helipad nearby to Chiangrai Prachanukroh Hospital on July 10, 2018 in Chiang Rai, Thailand. Divers began an effort to pull the 12 boys and their soccer coach on Sunday morning after they were found alive in the cave at northern Thailand. Thai Navy SEALs confirmed on Tuesday that the 12 boys, aged 11 to 16, and their 25-year-old coach have now all been extracted safely after they were found alive in the cave at northern Thailand. The boys of the Wild Boars soccer team and their coach are to spend at least a week in a hospital in Chiang Rai Province due to a risk of rare infections.(Photo by Linh Pham/Getty Images)\\n\\nLinh Pham/Getty Images\\n\\n\\n\\n\\nThe Thai cave rescue ended in success. Here's the full story\\n\\n\\n\\n\\n      Phromthep, known as Dom, left the cave as part of the second group of boys carried out on more than two weeks after they were first trapped. He was one of three boys whose birthdays slipped by while they were deep underground. In his first message to his parents he implored them not to forget. “I’m fine, but the weather is quite cold. But don’t worry,” he said. “Don’t forget my birthday,” he said.\\n  \\n\\n      From hospital, after his rescue, he said he wanted pork and rice to eat and thanked everyone for all their support.\\n  \\n\\n      All 12 of the rescued boys and their coach were then transported to a nearby hospital for recuperation.\\n  \\n\\n      Family members greeted the news of their rescue with relief and tears of happiness, punching the air when they heard that their boys were alive.\\n  \\n\\n      Reacting to Phromthep’s death, Prajak Sutham, one of the Thai cave survivors, wrote on Facebook: “We have been through together a lot, good and bad times. We had went through life and death situations together, when you told me to wait and see the time you became a national player. I always believed that you could do it. Last time we met before you left to UK, I jokingly told you that, when you’re back I would ask for your signature. Rest in Peace Bro, we always have each other, the 13 of us.”\\n  \\n\\n      The Doi Wao temple in his hometown in Chiang Rai also expressed their condolences to Phromthep’s mother.\\n  \\n\\n      Brooke House College, the school which Phromthep attended as a Football Academy student, said in a statement that his death “has left our college community deeply saddened and shaken.”\\n  \\n\\n      “This event has left our college community deeply saddened and shaken. We unite in grief with all of Dom’s family, friends, former teammates and those involved in all parts of his life, as well as everyone affected in any way by this loss in Thailand and throughout the college’s global family,” the college’s principal, Ian Smith, said.\\n  \\n\\n      According to the statement, Brooke House College is liaising with statutory authorities and the Royal Thai Embassy in London, and “dedicating all resources to assist our student body, as they as young people process Dom’s passing.”\\n  \\n\\n\\n\\n\\n\\n\\n\""
      ]
     },
     "execution_count": 83,
     "metadata": {},
     "output_type": "execute_result"
    }
   ],
   "source": [
    "content[1]._data[0]"
   ]
  },
  {
   "cell_type": "code",
   "execution_count": 85,
   "metadata": {},
   "outputs": [],
   "source": [
    "def ready_text_for_pred(text):\n",
    "    processed_text = re.sub(r\" +\", \" \", (re.sub(r\"[^a-zA-Z]\", \" \", text)).lower().strip())\n",
    "    return processed_text\n",
    "\n",
    "def preprocess_article_content(content):\n",
    "    content = content.strip(\"\\n\")\n",
    "\n",
    "    # Remove all special characters except sentence defining punctuation\n",
    "    cleaned_content = re.sub(r\"[^.!?\\w]\", \" \", content)\n",
    "\n",
    "    # Remove multiple spaces\n",
    "    cleaned_content = re.sub(r\"[ ]+\", \" \", cleaned_content)\n",
    "\n",
    "    # Split on sentence punctuation\n",
    "    split_sentences = re.split(r\"[.!?]\", cleaned_content)\n",
    "\n",
    "    cleaned_sentences = [ready_text_for_pred(sentence) for sentence in split_sentences if sentence != \"\"]\n",
    "    \n",
    "    return cleaned_sentences"
   ]
  },
  {
   "cell_type": "code",
   "execution_count": 86,
   "metadata": {},
   "outputs": [],
   "source": [
    "sentences = preprocess_article_content(content[1]._data[0])"
   ]
  },
  {
   "cell_type": "code",
   "execution_count": 135,
   "metadata": {},
   "outputs": [
    {
     "name": "stdout",
     "output_type": "stream",
     "text": [
      "1/1 [==============================] - 0s 88ms/step\n"
     ]
    },
    {
     "data": {
      "text/plain": [
       "array([[1.0827405]], dtype=float32)"
      ]
     },
     "execution_count": 135,
     "metadata": {},
     "output_type": "execute_result"
    }
   ],
   "source": [
    "model.predict([\"tesla is an obvious scam\"])"
   ]
  },
  {
   "cell_type": "code",
   "execution_count": 87,
   "metadata": {},
   "outputs": [
    {
     "name": "stdout",
     "output_type": "stream",
     "text": [
      "2/2 [==============================] - 1s 32ms/step\n"
     ]
    }
   ],
   "source": [
    "preds = model.predict(sentences)"
   ]
  },
  {
   "cell_type": "code",
   "execution_count": 88,
   "metadata": {},
   "outputs": [],
   "source": [
    "stats = {sentence:pred for sentence, pred in zip(sentences, preds)}"
   ]
  },
  {
   "cell_type": "code",
   "execution_count": 89,
   "metadata": {},
   "outputs": [],
   "source": [
    "df = pd.DataFrame(\n",
    "    {\n",
    "        \"sentence\":sentences,\n",
    "        \"prediction\":preds.flatten()\n",
    "    }\n",
    ")"
   ]
  },
  {
   "cell_type": "code",
   "execution_count": 105,
   "metadata": {},
   "outputs": [
    {
     "data": {
      "text/plain": [
       "1.401653"
      ]
     },
     "execution_count": 105,
     "metadata": {},
     "output_type": "execute_result"
    }
   ],
   "source": [
    "df.iloc[14,1]"
   ]
  },
  {
   "cell_type": "code",
   "execution_count": 106,
   "metadata": {},
   "outputs": [
    {
     "name": "stderr",
     "output_type": "stream",
     "text": [
      "c:\\Users\\duggurd\\New Folder\\graduation_project\\.venv\\lib\\site-packages\\tqdm\\auto.py:22: TqdmWarning: IProgress not found. Please update jupyter and ipywidgets. See https://ipywidgets.readthedocs.io/en/stable/user_install.html\n",
      "  from .autonotebook import tqdm as notebook_tqdm\n"
     ]
    },
    {
     "name": "stdout",
     "output_type": "stream",
     "text": [
      "WARNING:tensorflow:Detecting that an object or model or tf.train.Checkpoint is being deleted with unrestored values. See the following logs for the specific values in question. To silence these warnings, use `status.expect_partial()`. See https://www.tensorflow.org/api_docs/python/tf/train/Checkpoint#restorefor details about the status object returned by the restore function.\n",
      "WARNING:tensorflow:Value in checkpoint could not be found in the restored object: (root).optimizer._iterations\n",
      "WARNING:tensorflow:Value in checkpoint could not be found in the restored object: (root).optimizer._learning_rate\n",
      "WARNING:tensorflow:Value in checkpoint could not be found in the restored object: (root).optimizer._variables.1\n",
      "WARNING:tensorflow:Value in checkpoint could not be found in the restored object: (root).optimizer._variables.2\n",
      "WARNING:tensorflow:Value in checkpoint could not be found in the restored object: (root).optimizer._variables.3\n",
      "WARNING:tensorflow:Value in checkpoint could not be found in the restored object: (root).optimizer._variables.4\n",
      "WARNING:tensorflow:Value in checkpoint could not be found in the restored object: (root).optimizer._variables.5\n",
      "WARNING:tensorflow:Value in checkpoint could not be found in the restored object: (root).optimizer._variables.6\n",
      "WARNING:tensorflow:Value in checkpoint could not be found in the restored object: (root).optimizer._variables.7\n",
      "WARNING:tensorflow:Value in checkpoint could not be found in the restored object: (root).optimizer._variables.8\n",
      "WARNING:tensorflow:Value in checkpoint could not be found in the restored object: (root).optimizer._variables.9\n",
      "WARNING:tensorflow:Value in checkpoint could not be found in the restored object: (root).optimizer._variables.10\n",
      "WARNING:tensorflow:Value in checkpoint could not be found in the restored object: (root).optimizer._variables.11\n",
      "WARNING:tensorflow:Value in checkpoint could not be found in the restored object: (root).optimizer._variables.12\n",
      "WARNING:tensorflow:Value in checkpoint could not be found in the restored object: (root).optimizer._variables.13\n",
      "WARNING:tensorflow:Value in checkpoint could not be found in the restored object: (root).optimizer._variables.14\n",
      "WARNING:tensorflow:Value in checkpoint could not be found in the restored object: (root).optimizer._variables.15\n",
      "WARNING:tensorflow:Value in checkpoint could not be found in the restored object: (root).optimizer._variables.16\n",
      "WARNING:tensorflow:Value in checkpoint could not be found in the restored object: (root).optimizer._variables.17\n",
      "WARNING:tensorflow:Value in checkpoint could not be found in the restored object: (root).optimizer._variables.18\n"
     ]
    },
    {
     "name": "stderr",
     "output_type": "stream",
     "text": [
      "Downloading builder script: 100%|██████████| 3.77k/3.77k [00:00<00:00, 1.89MB/s]\n",
      "Downloading metadata: 100%|██████████| 1.85k/1.85k [00:00<00:00, 497kB/s]\n",
      "Downloading readme: 100%|██████████| 5.06k/5.06k [00:00<00:00, 1.69MB/s]\n"
     ]
    },
    {
     "name": "stdout",
     "output_type": "stream",
     "text": [
      "Downloading and preparing dataset sst2/default to C:/Users/duggurd/.cache/huggingface/datasets/sst2/default/2.0.0/9896208a8d85db057ac50c72282bcb8fe755accc671a57dd8059d4e130961ed5...\n"
     ]
    },
    {
     "name": "stderr",
     "output_type": "stream",
     "text": [
      "Downloading data: 100%|██████████| 7.44M/7.44M [00:01<00:00, 4.73MB/s]\n",
      "                                                                                       \r"
     ]
    },
    {
     "name": "stdout",
     "output_type": "stream",
     "text": [
      "Dataset sst2 downloaded and prepared to C:/Users/duggurd/.cache/huggingface/datasets/sst2/default/2.0.0/9896208a8d85db057ac50c72282bcb8fe755accc671a57dd8059d4e130961ed5. Subsequent calls will reuse this data.\n"
     ]
    },
    {
     "name": "stderr",
     "output_type": "stream",
     "text": [
      "100%|██████████| 3/3 [00:00<00:00, 68.50it/s]\n"
     ]
    }
   ],
   "source": [
    "import datasets\n",
    "dataset = datasets.load_dataset(\"sst2\")"
   ]
  },
  {
   "cell_type": "code",
   "execution_count": 114,
   "metadata": {},
   "outputs": [],
   "source": [
    "test = pd.DataFrame(dataset[\"train\"])"
   ]
  },
  {
   "cell_type": "code",
   "execution_count": 116,
   "metadata": {},
   "outputs": [
    {
     "name": "stdout",
     "output_type": "stream",
     "text": [
      "2105/2105 [==============================] - 90s 42ms/step\n"
     ]
    }
   ],
   "source": [
    "test[\"pred\"] = model.predict(test[\"sentence\"])"
   ]
  },
  {
   "cell_type": "code",
   "execution_count": 118,
   "metadata": {},
   "outputs": [],
   "source": [
    "test[\"pred_binary\"] = (test[\"pred\"] > 2)*1"
   ]
  },
  {
   "cell_type": "code",
   "execution_count": 119,
   "metadata": {},
   "outputs": [
    {
     "data": {
      "text/html": [
       "<div>\n",
       "<style scoped>\n",
       "    .dataframe tbody tr th:only-of-type {\n",
       "        vertical-align: middle;\n",
       "    }\n",
       "\n",
       "    .dataframe tbody tr th {\n",
       "        vertical-align: top;\n",
       "    }\n",
       "\n",
       "    .dataframe thead th {\n",
       "        text-align: right;\n",
       "    }\n",
       "</style>\n",
       "<table border=\"1\" class=\"dataframe\">\n",
       "  <thead>\n",
       "    <tr style=\"text-align: right;\">\n",
       "      <th></th>\n",
       "      <th>idx</th>\n",
       "      <th>sentence</th>\n",
       "      <th>label</th>\n",
       "      <th>pred</th>\n",
       "      <th>pred_binary</th>\n",
       "    </tr>\n",
       "  </thead>\n",
       "  <tbody>\n",
       "    <tr>\n",
       "      <th>0</th>\n",
       "      <td>0</td>\n",
       "      <td>hide new secretions from the parental units</td>\n",
       "      <td>0</td>\n",
       "      <td>2.618384</td>\n",
       "      <td>1</td>\n",
       "    </tr>\n",
       "    <tr>\n",
       "      <th>1</th>\n",
       "      <td>1</td>\n",
       "      <td>contains no wit , only labored gags</td>\n",
       "      <td>0</td>\n",
       "      <td>0.759405</td>\n",
       "      <td>0</td>\n",
       "    </tr>\n",
       "    <tr>\n",
       "      <th>2</th>\n",
       "      <td>2</td>\n",
       "      <td>that loves its characters and communicates som...</td>\n",
       "      <td>1</td>\n",
       "      <td>3.726185</td>\n",
       "      <td>1</td>\n",
       "    </tr>\n",
       "    <tr>\n",
       "      <th>3</th>\n",
       "      <td>3</td>\n",
       "      <td>remains utterly satisfied to remain the same t...</td>\n",
       "      <td>0</td>\n",
       "      <td>3.714559</td>\n",
       "      <td>1</td>\n",
       "    </tr>\n",
       "    <tr>\n",
       "      <th>4</th>\n",
       "      <td>4</td>\n",
       "      <td>on the worst revenge-of-the-nerds clichés the ...</td>\n",
       "      <td>0</td>\n",
       "      <td>0.690909</td>\n",
       "      <td>0</td>\n",
       "    </tr>\n",
       "    <tr>\n",
       "      <th>...</th>\n",
       "      <td>...</td>\n",
       "      <td>...</td>\n",
       "      <td>...</td>\n",
       "      <td>...</td>\n",
       "      <td>...</td>\n",
       "    </tr>\n",
       "    <tr>\n",
       "      <th>67344</th>\n",
       "      <td>67344</td>\n",
       "      <td>a delightful comedy</td>\n",
       "      <td>1</td>\n",
       "      <td>3.859110</td>\n",
       "      <td>1</td>\n",
       "    </tr>\n",
       "    <tr>\n",
       "      <th>67345</th>\n",
       "      <td>67345</td>\n",
       "      <td>anguish , anger and frustration</td>\n",
       "      <td>0</td>\n",
       "      <td>3.582586</td>\n",
       "      <td>1</td>\n",
       "    </tr>\n",
       "    <tr>\n",
       "      <th>67346</th>\n",
       "      <td>67346</td>\n",
       "      <td>at achieving the modest , crowd-pleasing goals...</td>\n",
       "      <td>1</td>\n",
       "      <td>2.346077</td>\n",
       "      <td>1</td>\n",
       "    </tr>\n",
       "    <tr>\n",
       "      <th>67347</th>\n",
       "      <td>67347</td>\n",
       "      <td>a patient viewer</td>\n",
       "      <td>1</td>\n",
       "      <td>1.113854</td>\n",
       "      <td>0</td>\n",
       "    </tr>\n",
       "    <tr>\n",
       "      <th>67348</th>\n",
       "      <td>67348</td>\n",
       "      <td>this new jangle of noise , mayhem and stupidit...</td>\n",
       "      <td>0</td>\n",
       "      <td>1.085382</td>\n",
       "      <td>0</td>\n",
       "    </tr>\n",
       "  </tbody>\n",
       "</table>\n",
       "<p>67349 rows × 5 columns</p>\n",
       "</div>"
      ],
      "text/plain": [
       "         idx                                           sentence  label  \\\n",
       "0          0       hide new secretions from the parental units       0   \n",
       "1          1               contains no wit , only labored gags       0   \n",
       "2          2  that loves its characters and communicates som...      1   \n",
       "3          3  remains utterly satisfied to remain the same t...      0   \n",
       "4          4  on the worst revenge-of-the-nerds clichés the ...      0   \n",
       "...      ...                                                ...    ...   \n",
       "67344  67344                               a delightful comedy       1   \n",
       "67345  67345                   anguish , anger and frustration       0   \n",
       "67346  67346  at achieving the modest , crowd-pleasing goals...      1   \n",
       "67347  67347                                  a patient viewer       1   \n",
       "67348  67348  this new jangle of noise , mayhem and stupidit...      0   \n",
       "\n",
       "           pred  pred_binary  \n",
       "0      2.618384            1  \n",
       "1      0.759405            0  \n",
       "2      3.726185            1  \n",
       "3      3.714559            1  \n",
       "4      0.690909            0  \n",
       "...         ...          ...  \n",
       "67344  3.859110            1  \n",
       "67345  3.582586            1  \n",
       "67346  2.346077            1  \n",
       "67347  1.113854            0  \n",
       "67348  1.085382            0  \n",
       "\n",
       "[67349 rows x 5 columns]"
      ]
     },
     "execution_count": 119,
     "metadata": {},
     "output_type": "execute_result"
    }
   ],
   "source": [
    "test"
   ]
  },
  {
   "cell_type": "code",
   "execution_count": 120,
   "metadata": {},
   "outputs": [],
   "source": [
    "true = test[\"label\"].value_counts()\n",
    "preds = test[\"pred_binary\"].value_counts()"
   ]
  },
  {
   "cell_type": "code",
   "execution_count": 131,
   "metadata": {},
   "outputs": [
    {
     "data": {
      "text/plain": [
       "0.8615557492088245"
      ]
     },
     "execution_count": 131,
     "metadata": {},
     "output_type": "execute_result"
    }
   ],
   "source": [
    "test[\"label\"].sum()/test[\"pred_binary\"].sum()"
   ]
  },
  {
   "cell_type": "code",
   "execution_count": 122,
   "metadata": {},
   "outputs": [
    {
     "data": {
      "text/plain": [
       "1    43606\n",
       "0    23743\n",
       "Name: pred_binary, dtype: int64"
      ]
     },
     "execution_count": 122,
     "metadata": {},
     "output_type": "execute_result"
    }
   ],
   "source": [
    "preds"
   ]
  },
  {
   "cell_type": "code",
   "execution_count": 128,
   "metadata": {},
   "outputs": [
    {
     "data": {
      "text/plain": [
       "array([[18227, 11553],\n",
       "       [ 5516, 32053]], dtype=int64)"
      ]
     },
     "execution_count": 128,
     "metadata": {},
     "output_type": "execute_result"
    }
   ],
   "source": [
    "import matplotlib.pyplot as plt \n",
    "\n",
    "confusion_matrix(test[\"label\"], test[\"pred_binary\"])"
   ]
  },
  {
   "cell_type": "code",
   "execution_count": 130,
   "metadata": {},
   "outputs": [
    {
     "data": {
      "image/png": "[encoded data removed]",
      "text/plain": [
       "<Figure size 640x480 with 2 Axes>"
      ]
     },
     "metadata": {},
     "output_type": "display_data"
    }
   ],
   "source": [
    "ConfusionMatrixDisplay(confusion_matrix(test[\"label\"], test[\"pred_binary\"])).plot()\n",
    "plt.show()"
   ]
  },
  {
   "cell_type": "code",
   "execution_count": null,
   "metadata": {},
   "outputs": [],
   "source": []
  }
 ],
 "metadata": {
  "kernelspec": {
   "display_name": ".venv",
   "language": "python",
   "name": "python3"
  },
  "language_info": {
   "codemirror_mode": {
    "name": "ipython",
    "version": 3
   },
   "file_extension": ".py",
   "mimetype": "text/x-python",
   "name": "python",
   "nbconvert_exporter": "python",
   "pygments_lexer": "ipython3",
   "version": "3.10.10"
  },
  "orig_nbformat": 4,
  "vscode": {
   "interpreter": {
    "hash": "d8996c41306a955084732ca4b0ba338895ff13d1921cf86d4d193db4a88f75fa"
   }
  }
 },
 "nbformat": 4,
 "nbformat_minor": 2
}
